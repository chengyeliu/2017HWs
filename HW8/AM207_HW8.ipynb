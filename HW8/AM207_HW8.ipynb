{
 "cells": [
  {
   "cell_type": "markdown",
   "metadata": {},
   "source": [
    "# APMTH 207: Advanced Scientific Computing: \n",
    "## Stochastic Methods for Data Analysis, Inference and Optimization\n",
    "## Homework #8\n",
    "**Harvard University**<br>\n",
    "**Spring 2017**<br>\n",
    "**Instructors: Rahul Dave**<br>\n",
    "**Due Date: ** Thursday, March 23th, 2017 at 11:59pm\n",
    "\n",
    "**Instructions:**\n",
    "\n",
    "- Upload your final answers as well as your iPython notebook containing all work to Canvas.\n",
    "\n",
    "- Structure your notebook and your work to maximize readability."
   ]
  },
  {
   "cell_type": "markdown",
   "metadata": {},
   "source": [
    "The genetic linkage of 197 animals is allocated to one of four\n",
    "categories. Among 197 animals are distributed multinomially into four categories \n",
    "\n",
    "$$Y=(y_1,y_2, y_3, y_4) = (125, 18, 20,34) $$\n",
    "\n",
    "with probabilities\n",
    "\n",
    "$$  \\frac{\\theta+2}{4}, \\frac{1-\\theta}{4}, \\frac{1-\\theta}{4}, \\frac{\\theta}{4}$$\n",
    "\n",
    "where $\\theta$ is unknown.\n",
    "\n",
    "The likelihood is of the form\n",
    "\n",
    "$$ p(y | \\theta) \\propto (2+\\theta)^{y_1} (1-\\theta)^{y_2+y_3}  \\, \\theta^{y_4}\n",
    "$$\n",
    "\n",
    "Suppose we have a prior on $\\theta$, $\\rm{Beta}(a,b)$ so the posterior is\n",
    "\n",
    "$$ p(\\theta| Y) = \\left( 2+\\theta \\right)^{y_1} (1-\\theta)^{y_2+y_3} \\, \\theta^{\n",
    "y_4} \\, \\theta^{a-1} \\, (1-\\theta)^{b-1} $$"
   ]
  },
  {
   "cell_type": "markdown",
   "metadata": {},
   "source": [
    "Use DA to sample from this.\n",
    "\n",
    "Augment the data with a new variable $z$ such that:\n",
    "\n",
    "$$ X= (x_1, x_2, x_3, x_4, x_5) $$\n",
    "\n",
    "where $x_1+x_2=y_1, x_3=y_2, x_4=y_3, x_5= y_4$. \n",
    "\n",
    "The idea is to divide the first cell into two cells\n",
    "with probabilities $1/2$ and $\\theta/4$.\n",
    "%Then let $X=(Y,Z)$ such that\n",
    "%\\[ Z: z=x_1 \\Rightarrow   x_2=y_1-z \\]\n",
    "\n",
    "Derived the joint distribution and use DA to sample from the posterior of $\\theta$.\n",
    "Show the distribution of theta."
   ]
  }
 ],
 "metadata": {
  "anaconda-cloud": {},
  "kernelspec": {
   "display_name": "Python [conda root]",
   "language": "python",
   "name": "conda-root-py"
  },
  "language_info": {
   "codemirror_mode": {
    "name": "ipython",
    "version": 2
   },
   "file_extension": ".py",
   "mimetype": "text/x-python",
   "name": "python",
   "nbconvert_exporter": "python",
   "pygments_lexer": "ipython2",
   "version": "2.7.13"
  }
 },
 "nbformat": 4,
 "nbformat_minor": 1
}
