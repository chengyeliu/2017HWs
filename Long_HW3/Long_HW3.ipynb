{
 "cells": [
  {
   "cell_type": "markdown",
   "metadata": {},
   "source": [
    "# APMTH 207: Advanced Scientific Computing: \n",
    "## Stochastic Methods for Data Analysis, Inference and Optimization\n",
    "## Long Homework #3\n",
    "**Harvard University**<br>\n",
    "**Spring 2017**<br>\n",
    "**Instructors: Rahul Dave**<br>\n",
    "**Due Date: ** Thursday, April 14th, 2017 at 11:59pm\n",
    "\n",
    "**Instructions:**\n",
    "\n",
    "- Upload your final answers as well as your iPython notebook containing all work to Canvas.\n",
    "\n",
    "- Structure your notebook and your work to maximize readability."
   ]
  },
  {
   "cell_type": "markdown",
   "metadata": {},
   "source": [
    "In this course, we've spent a lot of time learning algorithms for performing inference on complex models and we've spent time using these models to make decisions regarding our data. But in nearly every assignment, the model for the data is specified in the problem statement. In real life, the creative and, arguably, much more difficult task is to start with a broadlly defined goal and then to customize or create a model which will meet this goal in some way. In this long homework, we will lead you through the process of model building in simulated real-life conditions. \n",
    "\n",
    "In the dataset called \"sample_reviews\", you'll find a fairly representative selection of Yelp reviews for a (now closed) sushi restuarant called Ino's Sushi in San Francisco. The goal in this assignment is to build a model to help a machine classify any given restuarant (or qualities of a restuarant) as \"good\" or \"bad\" given Yelp reviews. \n",
    "\n",
    "Problem #1 is atypical as it does not involve any programming or (necessarily) difficult mathematics/statistics, however, answering these questions *seriously* will give you a idea of how one might create or select a model for a particular application and your answers will help you with formalizing the model in Problem #2, which is much more technically involved.\n",
    "\n",
    "\n",
    "## Problem #1: Understanding Yelp Review Data As a Human\n",
    "\n",
    "***Grading:*** *We want you to make a genuine effort to mold an ambiguous and broad real-life question into a concrete data science or machine learning problem without the pressuring of getting the \"right answer\". As such, we will grade your answer of Problem #1 on a pass/fail basis. Any reasonable answer that demonstrates actual effort will be given a full grade.*\n",
    "\n",
    "Read the reviews and form an opinion regarding the various qualities of Ino's Sushi. Answer the following:\n",
    "\n",
    "- If the task is to summarize the quality of a resturant in a simple and intuitive way, what might be problemmatic with simply classifying this resturant as simply \"good\" or \"bad\"? Justify your answers with specific examples from the dataset.\n",
    "\n",
    "\n",
    "- For Ino's Sushi, categorize the food and the service, separately, as \"good\" or \"bad\" based on all the reviews in the dataset. Be as systematic as you can when you do this.\n",
    "\n",
    "  (**Hint:** Begin by summarizing each review. For each review, summarize the reviewer's opinion on two aspects of the restuarant: food and service. That is, generate a classification (\"good\" or \"bad\") for each aspect based on what the reviewer writes.) \n",
    "  \n",
    "  \n",
    "- Identify statistical weaknesses in breaking each review down into an opinion on the food and an opinion on the service. That is, identify types of reviews that make your method of summarizing the reviewer's optinion on the quality of food and service problemmatic, if not impossible. Use examples from your dataset to support your argument. \n",
    "\n",
    "\n",
    "- Identify all the ways in which the task in bullet #2 might be difficult for a machine to accomplish. That is, break down the classification task into simple self-contained subtasks and identify how each subtask can be accomplished by a machine (which area of machine learning addressess this type of task).\n",
    "\n",
    "\n",
    "- Describe a complete pipeline for processing and transforming the data to obtain a classification for both food and service for each review. (You are welcome to use our schematics to help you do this)."
   ]
  },
  {
   "cell_type": "markdown",
   "metadata": {},
   "source": [
    "## Problem #2: Modeling Your Understanding\n",
    "\n",
    "In the dataset \"reviews_processed.csv\", you'll find a database of Yelp reviews for a number of restuarants. These reviews have already been processed and transformed by someone who has completed the (pre) modeling process described in Problem #1. That is, imagine the dataset in \"reviews_processed.csv\" is the result of feeding the raw Yelp reviews through the pipeline someone build for Problem #1.\n",
    "\n",
    "The following is a full list of columns in the dataset and their meanings:\n",
    "\n",
    "1. \"review_id\" - the unique identifier for each Yelp review\n",
    "2. \"topic\" - the subject addressed by the review (0 stands for food and 1 stands for service)\n",
    "3. \"rid\" - the unique identifier for each restuarant\n",
    "4. \"count\" - the number of sentences in a particular review on a particular topic\n",
    "5. \"mean\" - the probability of a sentence in a particular review on a particular topic being positive, averaged over total number of sentences in the review related to that topic.\n",
    "6. \"var\" - the variance of the probability of a sentence in a particular review on a particular topic being positive, taken over all sentences in the review related to that topic.\n",
    "\n",
    "The following schema illustrates the model of the raw data that is used to generate \"reviews_processed.csv\":\n",
    "<img src=\"restuarant_model.pdf\">\n",
    "\n",
    "### Part A: Modeling\n",
    "\n",
    "When the value in \"count\" is low, the \"mean\" value can be very skewed (refer to your answers for Problem #1 to see why this is a problem if we are interested in summarizing the reviewer's opinion on each aspect of a restuarant).\n",
    "\n",
    "Following the SAT prep school example discussed in class (and using your answers for Problem #1), set up a Bayesian model for a reviewer $i$'s opinion of restuarant $j$'s food and service, separately. That is, you will have a model for each resturant and each aspect (food and serivce). For resturant $j$, you will have a model for $\\{\\theta_{ij}^{\\text{food}}\\}$ and one for $\\{\\theta_{ij}^{\\text{service}}\\}$, where $\\theta_{ij}$ is the positivity of the opinion of the $i$-th reviewer regarding the $j$-th restuarant. \n",
    "\n",
    "### Part B: Analysis for Each Restuarant\n",
    "\n",
    "Use your model to produce estimates for $\\theta_{ij}$'s. Pick a restuarant, for each aspect (\"food\" and \"service\"), plot your estimates for $\\theta$'s against the values in the \"mean\" column (corresponding to this restuarant. Use this plot to discuss the statistical benefits of modeling each reviewer's opinion as you did in Part A, rather than approximating the reviewer opinion with the value in \"mean\".\n",
    "\n",
    "### Part C: Analysis Across Restuarants\n",
    "\n",
    "Aggregate, in a simple but reasonable way, the reviewer's opinions to given a pair of overall scores for each restuarant, one for food and one for service. Rank the restuarants by food score and then by service score. Discuss the statistical weakness of ranking by these scores.\n",
    "\n",
    "(**Hint:** what is problemmatic about the way you aggregated the reviews of each restuarant to produce an overall food or service score? You've see this question addressed a number of times in previous Homeworks.)\n",
    "\n",
    "### Extra Credit:\n",
    "\n",
    "Propose a model, that addresses the weakness of your approach in Part C, for the overall quality of food and service, separately, for each restuarant given the $\\theta$'s. Combine your model for the overall quality with your model for the $\\theta$'s. Use this combined model to estimate the overall quality of food and service for each restuarant.\n",
    "\n",
    "(**Hint:** Homework #7 might be a good reference for building your model for overall quality of food and service)\n"
   ]
  }
 ],
 "metadata": {
  "anaconda-cloud": {},
  "kernelspec": {
   "display_name": "Python [default]",
   "language": "python",
   "name": "python2"
  },
  "language_info": {
   "codemirror_mode": {
    "name": "ipython",
    "version": 2
   },
   "file_extension": ".py",
   "mimetype": "text/x-python",
   "name": "python",
   "nbconvert_exporter": "python",
   "pygments_lexer": "ipython2",
   "version": "2.7.12"
  }
 },
 "nbformat": 4,
 "nbformat_minor": 0
}
