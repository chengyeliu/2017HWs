{
 "cells": [
  {
   "cell_type": "markdown",
   "metadata": {},
   "source": [
    "# APMTH 207: Advanced Scientific Computing: \n",
    "## Stochastic Methods for Data Analysis, Inference and Optimization\n",
    "## Homework #10\n",
    "**Harvard University**<br>\n",
    "**Spring 2017**<br>\n",
    "**Instructors: Rahul Dave**<br>\n",
    "**Due Date: ** Friday, April 14th, 2017 at 11:59pm\n",
    "\n",
    "**Instructions:**\n",
    "\n",
    "- Upload your final answers as well as your iPython notebook containing all work to Canvas.\n",
    "\n",
    "- Structure your notebook and your work to maximize readability."
   ]
  },
  {
   "cell_type": "markdown",
   "metadata": {},
   "source": [
    "During the course of the semester you have worked with a considerable number of sophisticated models. In previous homeworks, you have focused on developing algorithms for performing inference on or prediction using these models. In this assignment, much like in Long Homework #3, you will explore how to recast data, tasks and research questions from a variety of different contexts so that an existing model can be applied for analysis.\n",
    "\n",
    "Example 10.1.3 in \"Statistical Rethinking\", the excerpt of which is included in the data directory for this assignment, illustrates a study of the effect of an applicant's gender on graduate school admissions to six U.C. Berkeley departments through a comparison of four models. \n",
    "\n",
    "## Problem #1: A Study of Census Data\n",
    "\n",
    "In this problem, you are given the data for the 1994 U.S. Census. The data has been processed so that only a subset of the features are present (for full dataset as well as the description see the [UCI Machine Learning Repository](http://archive.ics.uci.edu/ml/datasets/Census+Income)). \n",
    "\n",
    "You will be investigate the effect of gender on a person's yearly income in the dataset. In particular, we want to know how a person's gender effect the likelihood of their yearly salary being above or below \\$50k. \n",
    "\n",
    "First we want to aggregate the dataset by seven different categories. The categories we wish to consider are: \n",
    "- 4 year college degree\n",
    "- Some-college or two year academic college degree\n",
    "- High school\n",
    "- Professional, vocational school\n",
    "- Masters \n",
    "- Doctorate\n",
    "- Some or no high school\n",
    "Note that you might have to combine some of the existing education categories in your dataframe. For each category, we suggest that you only keep track of a count of the number of males and females who make above (and resp. below) $50k (see the dataset in Example 10.1.3). \n",
    "\n",
    "Following Example 10.1.3, build two models for the classification of an individual's yearly income (1 being above \\$50k and 0 being below), one of these models should include the effect of gender while the other should not. \n",
    "\n",
    "Replicate the analysis in 10.1.3 using your models; specifically, make a plot like Figure 10.5 (posterior check) to see how well your models fits the data. Using your analysis, discuss the effect of gender on income.\n",
    "\n",
    "Following Example 10.1.3, build two models for the classification of an individual's yearly income taking into account education. \n",
    "\n",
    "Replicate the analysis in 10.1.3 using your models; specifically, make a plot like Figure 10.6 (posterior check) to see how well your model fits the data. Using your analysis, discuss the effect of gender on income, taking into account an individual's education."
   ]
  },
  {
   "cell_type": "code",
   "execution_count": 19,
   "metadata": {
    "collapsed": false
   },
   "outputs": [
    {
     "data": {
      "text/html": [
       "<div>\n",
       "<table border=\"1\" class=\"dataframe\">\n",
       "  <thead>\n",
       "    <tr style=\"text-align: right;\">\n",
       "      <th></th>\n",
       "      <th>Unnamed: 0</th>\n",
       "      <th>age</th>\n",
       "      <th>sector</th>\n",
       "      <th>edu</th>\n",
       "      <th>marital</th>\n",
       "      <th>race</th>\n",
       "      <th>sex</th>\n",
       "      <th>earning</th>\n",
       "    </tr>\n",
       "  </thead>\n",
       "  <tbody>\n",
       "    <tr>\n",
       "      <th>0</th>\n",
       "      <td>0</td>\n",
       "      <td>39</td>\n",
       "      <td>State-gov</td>\n",
       "      <td>Bachelors</td>\n",
       "      <td>Never-married</td>\n",
       "      <td>White</td>\n",
       "      <td>Male</td>\n",
       "      <td>&lt;=50K</td>\n",
       "    </tr>\n",
       "    <tr>\n",
       "      <th>1</th>\n",
       "      <td>1</td>\n",
       "      <td>50</td>\n",
       "      <td>Self-emp-not-inc</td>\n",
       "      <td>Bachelors</td>\n",
       "      <td>Married-civ-spouse</td>\n",
       "      <td>White</td>\n",
       "      <td>Male</td>\n",
       "      <td>&lt;=50K</td>\n",
       "    </tr>\n",
       "    <tr>\n",
       "      <th>2</th>\n",
       "      <td>2</td>\n",
       "      <td>38</td>\n",
       "      <td>Private</td>\n",
       "      <td>HS-grad</td>\n",
       "      <td>Divorced</td>\n",
       "      <td>White</td>\n",
       "      <td>Male</td>\n",
       "      <td>&lt;=50K</td>\n",
       "    </tr>\n",
       "    <tr>\n",
       "      <th>3</th>\n",
       "      <td>3</td>\n",
       "      <td>53</td>\n",
       "      <td>Private</td>\n",
       "      <td>11th</td>\n",
       "      <td>Married-civ-spouse</td>\n",
       "      <td>Black</td>\n",
       "      <td>Male</td>\n",
       "      <td>&lt;=50K</td>\n",
       "    </tr>\n",
       "    <tr>\n",
       "      <th>4</th>\n",
       "      <td>4</td>\n",
       "      <td>28</td>\n",
       "      <td>Private</td>\n",
       "      <td>Bachelors</td>\n",
       "      <td>Married-civ-spouse</td>\n",
       "      <td>Black</td>\n",
       "      <td>Female</td>\n",
       "      <td>&lt;=50K</td>\n",
       "    </tr>\n",
       "  </tbody>\n",
       "</table>\n",
       "</div>"
      ],
      "text/plain": [
       "   Unnamed: 0  age            sector        edu             marital   race  \\\n",
       "0           0   39         State-gov  Bachelors       Never-married  White   \n",
       "1           1   50  Self-emp-not-inc  Bachelors  Married-civ-spouse  White   \n",
       "2           2   38           Private    HS-grad            Divorced  White   \n",
       "3           3   53           Private       11th  Married-civ-spouse  Black   \n",
       "4           4   28           Private  Bachelors  Married-civ-spouse  Black   \n",
       "\n",
       "      sex earning  \n",
       "0    Male   <=50K  \n",
       "1    Male   <=50K  \n",
       "2    Male   <=50K  \n",
       "3    Male   <=50K  \n",
       "4  Female   <=50K  "
      ]
     },
     "execution_count": 19,
     "metadata": {},
     "output_type": "execute_result"
    }
   ],
   "source": [
    "import matplotlib.pyplot as plt\n",
    "import numpy as np\n",
    "import pandas as pd\n",
    "import scipy.stats as stats\n",
    "%matplotlib inline\n",
    "\n",
    "\n",
    "df = pd.read_csv('data/census_data.csv')\n",
    "df.head()\n"
   ]
  },
  {
   "cell_type": "code",
   "execution_count": 20,
   "metadata": {
    "collapsed": false
   },
   "outputs": [
    {
     "data": {
      "text/plain": [
       "array(['Bachelors', 'HS-grad', '11th', 'Masters', '9th', 'Some-college',\n",
       "       'Assoc-acdm', 'Assoc-voc', '7th-8th', 'Doctorate', 'Prof-school',\n",
       "       '5th-6th', '10th', '1st-4th', 'Preschool', '12th'], dtype=object)"
      ]
     },
     "execution_count": 20,
     "metadata": {},
     "output_type": "execute_result"
    }
   ],
   "source": [
    "df['edu'].unique()"
   ]
  },
  {
   "cell_type": "code",
   "execution_count": 37,
   "metadata": {
    "collapsed": false
   },
   "outputs": [
    {
     "data": {
      "text/html": [
       "<div>\n",
       "<table border=\"1\" class=\"dataframe\">\n",
       "  <thead>\n",
       "    <tr style=\"text-align: right;\">\n",
       "      <th></th>\n",
       "      <th>category</th>\n",
       "      <th>sex</th>\n",
       "      <th>total</th>\n",
       "      <th>&lt;=50</th>\n",
       "      <th>&gt;50</th>\n",
       "    </tr>\n",
       "  </thead>\n",
       "  <tbody>\n",
       "    <tr>\n",
       "      <th>0</th>\n",
       "      <td>1</td>\n",
       "      <td>0</td>\n",
       "      <td>1619</td>\n",
       "      <td>1280</td>\n",
       "      <td>339</td>\n",
       "    </tr>\n",
       "    <tr>\n",
       "      <th>1</th>\n",
       "      <td>1</td>\n",
       "      <td>1</td>\n",
       "      <td>3736</td>\n",
       "      <td>1854</td>\n",
       "      <td>1882</td>\n",
       "    </tr>\n",
       "    <tr>\n",
       "      <th>2</th>\n",
       "      <td>2</td>\n",
       "      <td>0</td>\n",
       "      <td>3227</td>\n",
       "      <td>2974</td>\n",
       "      <td>253</td>\n",
       "    </tr>\n",
       "    <tr>\n",
       "      <th>3</th>\n",
       "      <td>2</td>\n",
       "      <td>1</td>\n",
       "      <td>5131</td>\n",
       "      <td>3732</td>\n",
       "      <td>1399</td>\n",
       "    </tr>\n",
       "    <tr>\n",
       "      <th>4</th>\n",
       "      <td>3</td>\n",
       "      <td>0</td>\n",
       "      <td>592</td>\n",
       "      <td>483</td>\n",
       "      <td>109</td>\n",
       "    </tr>\n",
       "    <tr>\n",
       "      <th>5</th>\n",
       "      <td>3</td>\n",
       "      <td>1</td>\n",
       "      <td>1366</td>\n",
       "      <td>691</td>\n",
       "      <td>675</td>\n",
       "    </tr>\n",
       "    <tr>\n",
       "      <th>6</th>\n",
       "      <td>4</td>\n",
       "      <td>0</td>\n",
       "      <td>3390</td>\n",
       "      <td>3164</td>\n",
       "      <td>226</td>\n",
       "    </tr>\n",
       "    <tr>\n",
       "      <th>7</th>\n",
       "      <td>4</td>\n",
       "      <td>1</td>\n",
       "      <td>7111</td>\n",
       "      <td>5662</td>\n",
       "      <td>1449</td>\n",
       "    </tr>\n",
       "    <tr>\n",
       "      <th>8</th>\n",
       "      <td>5</td>\n",
       "      <td>0</td>\n",
       "      <td>1321</td>\n",
       "      <td>1298</td>\n",
       "      <td>23</td>\n",
       "    </tr>\n",
       "    <tr>\n",
       "      <th>9</th>\n",
       "      <td>5</td>\n",
       "      <td>1</td>\n",
       "      <td>2932</td>\n",
       "      <td>2711</td>\n",
       "      <td>221</td>\n",
       "    </tr>\n",
       "    <tr>\n",
       "      <th>10</th>\n",
       "      <td>6</td>\n",
       "      <td>0</td>\n",
       "      <td>536</td>\n",
       "      <td>357</td>\n",
       "      <td>179</td>\n",
       "    </tr>\n",
       "    <tr>\n",
       "      <th>11</th>\n",
       "      <td>6</td>\n",
       "      <td>1</td>\n",
       "      <td>1187</td>\n",
       "      <td>407</td>\n",
       "      <td>780</td>\n",
       "    </tr>\n",
       "    <tr>\n",
       "      <th>12</th>\n",
       "      <td>7</td>\n",
       "      <td>0</td>\n",
       "      <td>86</td>\n",
       "      <td>36</td>\n",
       "      <td>50</td>\n",
       "    </tr>\n",
       "    <tr>\n",
       "      <th>13</th>\n",
       "      <td>7</td>\n",
       "      <td>1</td>\n",
       "      <td>327</td>\n",
       "      <td>71</td>\n",
       "      <td>256</td>\n",
       "    </tr>\n",
       "  </tbody>\n",
       "</table>\n",
       "</div>"
      ],
      "text/plain": [
       "    category  sex  total  <=50   >50\n",
       "0          1    0   1619  1280   339\n",
       "1          1    1   3736  1854  1882\n",
       "2          2    0   3227  2974   253\n",
       "3          2    1   5131  3732  1399\n",
       "4          3    0    592   483   109\n",
       "5          3    1   1366   691   675\n",
       "6          4    0   3390  3164   226\n",
       "7          4    1   7111  5662  1449\n",
       "8          5    0   1321  1298    23\n",
       "9          5    1   2932  2711   221\n",
       "10         6    0    536   357   179\n",
       "11         6    1   1187   407   780\n",
       "12         7    0     86    36    50\n",
       "13         7    1    327    71   256"
      ]
     },
     "execution_count": 37,
     "metadata": {},
     "output_type": "execute_result"
    }
   ],
   "source": [
    "cat_1 = ['Bachelors']\n",
    "cat_2 = ['Some-college', 'Assoc-acdm']\n",
    "cat_3 = ['Assoc-voc', 'Prof-school']\n",
    "cat_4 = ['HS-grad']\n",
    "cat_5 = ['11th', '7th-8th', '9th', '5th-6th', '10th', '1st-4th', 'Preschool', '12th']\n",
    "cat_6 = ['Masters']\n",
    "cat_7 = ['Doctorate']\n",
    "\n",
    "categories = [cat_1, cat_2, cat_3, cat_4, cat_5, cat_6, cat_7]\n",
    "dataset = []\n",
    "i = 1\n",
    "for cat in categories:\n",
    "    filtered = df[df['edu'].isin(cat)]\n",
    "    dataset.append((i, 0, len(filtered[filtered['sex'] == 'Female']), len(filtered[(filtered['sex'] == 'Female') & (filtered['earning'] == '<=50K')]), len(filtered[(filtered['sex'] == 'Female') & (filtered['earning'] == '>50K')])))\n",
    "    dataset.append((i, 1, len(filtered[filtered['sex'] == 'Male']), len(filtered[(filtered['sex'] == 'Male') & (filtered['earning'] == '<=50K')]), len(filtered[(filtered['sex'] == 'Male') & (filtered['earning'] == '>50K')])))\n",
    "    i += 1\n",
    "dataset = np.array(dataset)\n",
    "dataset = pd.DataFrame(dataset, columns=['category', 'sex', 'total', '<=50', '>50'])\n",
    "dataset"
   ]
  },
  {
   "cell_type": "code",
   "execution_count": 38,
   "metadata": {
    "collapsed": true
   },
   "outputs": [],
   "source": [
    "# WITH GENDER\n",
    "\n",
    "# define invlogit function\n",
    "def invlogit(x):\n",
    "    return pymc.exp(x) / (1 + pymc.exp(x))\n",
    "\n",
    "# observed data\n",
    "n = dataset['total'].values\n",
    "x = dataset['sex'].values\n",
    "y_obs = dataset['>50'].values\n",
    "\n",
    "# define priors\n",
    "alpha = pymc.Normal('alpha', mu=0, tau=10)\n",
    "beta = pymc.Normal('beta', mu=0, tau=10)\n",
    "\n",
    "# define likelihood\n",
    "p = pymc.InvLogit('p', alpha + beta*x)\n",
    "y = pymc.Binomial('y_obs', n=n, p=p, value=y_obs, observed=True)\n",
    "\n",
    "# inference\n",
    "m = pymc.Model([alpha, beta, y])\n"
   ]
  },
  {
   "cell_type": "code",
   "execution_count": 39,
   "metadata": {
    "collapsed": false
   },
   "outputs": [
    {
     "name": "stdout",
     "output_type": "stream",
     "text": [
      " [-----------------100%-----------------] 11000 of 11000 complete in 1.1 sec"
     ]
    }
   ],
   "source": [
    "mc = pymc.MCMC(m)\n",
    "mc.sample(iter=11000, burn=10000)"
   ]
  },
  {
   "cell_type": "code",
   "execution_count": 40,
   "metadata": {
    "collapsed": false
   },
   "outputs": [
    {
     "data": {
      "text/plain": [
       "{'95% HPD interval': array([ 1.18557867,  1.30994645]),\n",
       " 'mc error': 0.0031599400426224173,\n",
       " 'mean': 1.240725960299812,\n",
       " 'n': 1000,\n",
       " 'quantiles': {2.5: 1.1838268410138473,\n",
       "  25: 1.2161407605377883,\n",
       "  50: 1.2398927570312375,\n",
       "  75: 1.2655260303409308,\n",
       "  97.5: 1.3099464537622341},\n",
       " 'standard deviation': 0.033682142798189769}"
      ]
     },
     "execution_count": 40,
     "metadata": {},
     "output_type": "execute_result"
    }
   ],
   "source": [
    "beta.stats()"
   ]
  },
  {
   "cell_type": "code",
   "execution_count": 42,
   "metadata": {
    "collapsed": false
   },
   "outputs": [
    {
     "data": {
      "text/plain": [
       "3.4581230137558441"
      ]
     },
     "execution_count": 42,
     "metadata": {},
     "output_type": "execute_result"
    }
   ],
   "source": [
    "print 'average male advantage', np.exp(beta.stats()['mean'])"
   ]
  },
  {
   "cell_type": "code",
   "execution_count": 58,
   "metadata": {
    "collapsed": false
   },
   "outputs": [
    {
     "name": "stdout",
     "output_type": "stream",
     "text": [
      "male advantage percentiles 0.184690137403 0.192069313762 0.200015899732\n"
     ]
    }
   ],
   "source": [
    "logistic = lambda x: 1. / (1 + np.exp(-x))\n",
    "males = logistic(alpha.trace() + beta.trace())\n",
    "females = logistic(alpha.trace())\n",
    "diff = males - females\n",
    "print 'male advantage percentiles', np.percentile(diff, 2.5), np.percentile(diff, 50), np.percentile(diff, 97.5)"
   ]
  },
  {
   "cell_type": "code",
   "execution_count": 59,
   "metadata": {
    "collapsed": false
   },
   "outputs": [
    {
     "name": "stdout",
     "output_type": "stream",
     "text": [
      "model aic, bic 3969.60420286 3970.88231752\n"
     ]
    }
   ],
   "source": [
    "MAP = pymc.MAP(m)\n",
    "MAP.fit()\n",
    "print 'model aic, bic', MAP.AIC, MAP.BIC"
   ]
  },
  {
   "cell_type": "code",
   "execution_count": 56,
   "metadata": {
    "collapsed": true
   },
   "outputs": [],
   "source": [
    "# NO GENDER\n",
    "\n",
    "# define priors\n",
    "alpha2 = pymc.Normal('alpha', mu=0, tau=10)\n",
    "\n",
    "# define likelihood\n",
    "p2 = pymc.InvLogit('p', alpha)\n",
    "y2 = pymc.Binomial('y_obs', n=n, p=p2, value=y_obs, observed=True)\n",
    "\n",
    "# inference\n",
    "m2 = pymc.Model([alpha2, y2])"
   ]
  },
  {
   "cell_type": "code",
   "execution_count": 60,
   "metadata": {
    "collapsed": false
   },
   "outputs": [
    {
     "name": "stdout",
     "output_type": "stream",
     "text": [
      "model aic, bic 9898.15871995 9898.79777728\n"
     ]
    }
   ],
   "source": [
    "MAP = pymc.MAP(m2)\n",
    "MAP.fit()\n",
    "print 'model aic, bic', MAP.AIC, MAP.BIC"
   ]
  },
  {
   "cell_type": "code",
   "execution_count": 72,
   "metadata": {
    "collapsed": false
   },
   "outputs": [],
   "source": [
    "# WITH GENDER\n",
    "\n",
    "\n",
    "# observed data\n",
    "cat = dataset['category'].values\n",
    "\n",
    "\n",
    "# define priors\n",
    "alphas = pymc.Normal('alpha', mu=0, tau=10, size=7)\n",
    "beta3 = pymc.Normal('beta', mu=0, tau=10)\n",
    "\n",
    "# define likelihood\n",
    "def match_dept(alphas, cat):\n",
    "    return alphas[cat - 1]\n",
    "p3 = pymc.InvLogit('p', match_dept(alphas, cat) + beta3*x)\n",
    "y3 = pymc.Binomial('y_obs', n=n, p=p3, value=y_obs, observed=True)\n",
    "\n",
    "# inference\n",
    "m3 = pymc.Model([alphas, beta3, y3])\n",
    "\n"
   ]
  },
  {
   "cell_type": "code",
   "execution_count": 73,
   "metadata": {
    "collapsed": false
   },
   "outputs": [
    {
     "name": "stdout",
     "output_type": "stream",
     "text": [
      " [-----------------100%-----------------] 11000 of 11000 complete in 1.3 sec"
     ]
    }
   ],
   "source": [
    "mc = pymc.MCMC(m3)\n",
    "mc.sample(iter=11000, burn=10000)\n"
   ]
  },
  {
   "cell_type": "code",
   "execution_count": 75,
   "metadata": {
    "collapsed": false
   },
   "outputs": [
    {
     "data": {
      "text/plain": [
       "{'95% HPD interval': array([ 1.16397331,  1.25959332]),\n",
       " 'mc error': 0.0021678823937301707,\n",
       " 'mean': 1.2190834180277406,\n",
       " 'n': 1000,\n",
       " 'quantiles': {2.5: 1.1680985637425561,\n",
       "  25: 1.2055042618498635,\n",
       "  50: 1.2181412310010695,\n",
       "  75: 1.2344974204240882,\n",
       "  97.5: 1.2775460895965354},\n",
       " 'standard deviation': 0.024358136464205225}"
      ]
     },
     "execution_count": 75,
     "metadata": {},
     "output_type": "execute_result"
    }
   ],
   "source": [
    "beta3.stats()"
   ]
  },
  {
   "cell_type": "code",
   "execution_count": 77,
   "metadata": {
    "collapsed": false
   },
   "outputs": [
    {
     "name": "stdout",
     "output_type": "stream",
     "text": [
      "average male advantage 3.3840845208\n"
     ]
    }
   ],
   "source": [
    "print 'average male advantage', np.exp(beta3.stats()['mean'])"
   ]
  },
  {
   "cell_type": "code",
   "execution_count": 76,
   "metadata": {
    "collapsed": false
   },
   "outputs": [
    {
     "data": {
      "text/plain": [
       "{'95% HPD interval': array([[-1.27467757, -2.31399983, -1.25496924, -2.6248527 , -3.75351406,\n",
       "         -0.69661536, -0.06452168],\n",
       "        [-1.15172624, -2.16807808, -1.21318883, -2.50752291, -3.50911107,\n",
       "         -0.50188815,  0.31635917]]),\n",
       " 'mc error': array([ 0.00294713,  0.00339148,  0.00114192,  0.00259892,  0.00535699,\n",
       "         0.00436833,  0.0093698 ]),\n",
       " 'mean': array([-1.22165214, -2.23763333, -1.23443438, -2.56935554, -3.61688324,\n",
       "        -0.59980522,  0.11894709]),\n",
       " 'n': 1000,\n",
       " 'quantiles': {2.5: array([-1.27467757, -2.31102181, -1.25490578, -2.62952736, -3.75268712,\n",
       "         -0.69661536, -0.06395842]),\n",
       "  25: array([-1.24598484, -2.26255586, -1.24325831, -2.59030117, -3.66423978,\n",
       "         -0.63363324,  0.05108358]),\n",
       "  50: array([-1.22648815, -2.24245793, -1.23433091, -2.56831644, -3.61252993,\n",
       "         -0.59980435,  0.10887859]),\n",
       "  75: array([-1.19743301, -2.21401341, -1.22704143, -2.54802457, -3.57167357,\n",
       "         -0.57377007,  0.17433633]),\n",
       "  97.5: array([-1.15172624, -2.15410466, -1.21281541, -2.50948961, -3.50222874,\n",
       "         -0.48822339,  0.33196338])},\n",
       " 'standard deviation': array([ 0.03506832,  0.03593731,  0.01165429,  0.03067854,  0.06358777,\n",
       "         0.04793181,  0.09842105])}"
      ]
     },
     "execution_count": 76,
     "metadata": {},
     "output_type": "execute_result"
    }
   ],
   "source": [
    "alphas.stats()"
   ]
  },
  {
   "cell_type": "code",
   "execution_count": 78,
   "metadata": {
    "collapsed": false
   },
   "outputs": [
    {
     "name": "stdout",
     "output_type": "stream",
     "text": [
      "model aic, bic 144.093109267 149.205567903\n"
     ]
    }
   ],
   "source": [
    "MAP = pymc.MAP(m3)\n",
    "MAP.fit()\n",
    "print 'model aic, bic', MAP.AIC, MAP.BIC"
   ]
  },
  {
   "cell_type": "code",
   "execution_count": 79,
   "metadata": {
    "collapsed": true
   },
   "outputs": [],
   "source": [
    "# NO GENDER\n",
    "\n",
    "# define priors\n",
    "alphas2 = pymc.Normal('alpha', mu=0, tau=10, size=7)\n",
    "\n",
    "# define likelihood\n",
    "def match_dept(alphas, cat):\n",
    "    return alphas[cat - 1]\n",
    "p4 = pymc.InvLogit('p', match_dept(alphas2, cat))\n",
    "y4 = pymc.Binomial('y_obs', n=n, p=p4, value=y_obs, observed=True)\n",
    "\n",
    "# inference\n",
    "m3 = pymc.Model([alphas2, y4])"
   ]
  },
  {
   "cell_type": "code",
   "execution_count": 80,
   "metadata": {
    "collapsed": false
   },
   "outputs": [
    {
     "name": "stdout",
     "output_type": "stream",
     "text": [
      "model aic, bic 1850.85306305 1855.32646436\n"
     ]
    }
   ],
   "source": [
    "MAP = pymc.MAP(m3)\n",
    "MAP.fit()\n",
    "print 'model aic, bic', MAP.AIC, MAP.BIC"
   ]
  },
  {
   "cell_type": "code",
   "execution_count": null,
   "metadata": {
    "collapsed": true
   },
   "outputs": [],
   "source": []
  }
 ],
 "metadata": {
  "anaconda-cloud": {},
  "kernelspec": {
   "display_name": "Python [conda root]",
   "language": "python",
   "name": "conda-root-py"
  },
  "language_info": {
   "codemirror_mode": {
    "name": "ipython",
    "version": 2
   },
   "file_extension": ".py",
   "mimetype": "text/x-python",
   "name": "python",
   "nbconvert_exporter": "python",
   "pygments_lexer": "ipython2",
   "version": "2.7.12"
  }
 },
 "nbformat": 4,
 "nbformat_minor": 1
}
