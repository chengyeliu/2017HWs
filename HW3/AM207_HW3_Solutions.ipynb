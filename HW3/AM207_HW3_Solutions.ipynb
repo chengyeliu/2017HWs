{
 "cells": [
  {
   "cell_type": "markdown",
   "metadata": {},
   "source": [
    "# APMTH 207: Advanced Scientific Computing: \n",
    "## Stochastic Methods for Data Analysis, Inference and Optimization\n",
    "## Homework #3\n",
    "**Harvard University**<br>\n",
    "**Spring 2017**<br>\n",
    "**Instructors: Rahul Dave**<br>\n",
    "**Due Date: ** Thursday, Febrary 16th, 2017 at 11:59pm\n",
    "\n",
    "**Instructions:**\n",
    "\n",
    "- Upload your final answers as well as your iPython notebook containing all work to Canvas.\n",
    "\n",
    "- Structure your notebook and your work to maximize readability."
   ]
  },
  {
   "cell_type": "markdown",
   "metadata": {},
   "source": [
    "## Problem 1: Optimization via Descent\n",
    "\n",
    "Suppose you are building a pricing model for laying down telecom cables over a geographical region. Your model takes as input a pair of  coordinates, $(x, y)$, and contains two parameters, $\\lambda_1, \\lambda_2$. Given a coordinate, $(x, y)$, and model parameters, the loss in revenue corresponding to the price model at location $(x, y)$ is described by\n",
    "$$\n",
    "L(x, y, \\lambda_1, \\lambda_2) = 0.000045\\lambda_2^2 y - 0.000098\\lambda_1^2 x - 0.0005\\lambda_1 x\\exp\\left\\{\\left(y^2 - x^2\\right)\\left(\\lambda_1^2 + \\lambda_2^2\\right)\\right\\}\n",
    "$$\n",
    "Read the data contained in `HW3_data.csv`. This is a set of coordinates configured on the curve $y^2 - x^2 = -0.1$. Given the data, find parameters $\\lambda_1, \\lambda_2$ that minimize the net loss over the entire dataset."
   ]
  },
  {
   "cell_type": "code",
   "execution_count": 2,
   "metadata": {
    "collapsed": false
   },
   "outputs": [],
   "source": [
    "import numpy as np\n",
    "import pandas as pd\n",
    "%matplotlib inline\n",
    "import numpy as np\n",
    "\n",
    "import matplotlib.pyplot as plt\n",
    "import matplotlib.animation as animation\n",
    "from scipy import stats \n",
    "\n",
    "x, y = np.genfromtxt('HW3_data.csv', delimiter=',')"
   ]
  },
  {
   "cell_type": "code",
   "execution_count": 3,
   "metadata": {
    "collapsed": false
   },
   "outputs": [
    {
     "name": "stdout",
     "output_type": "stream",
     "text": [
      "the min total cost -9.9341040253\n"
     ]
    }
   ],
   "source": [
    "x_sum = x.sum()\n",
    "y_sum = y.sum()\n",
    "n = len(x)\n",
    "\n",
    "L = lambda l1, l2, x, y: 0.000045 * l2**2 * y.sum() - 0.000098 * l1**2 * x.sum() + 0.003926 * x.sum() * l1 * np.exp(-0.1 * (l1**2 + l2**2))\n",
    "\n",
    "print 'the min total cost', L(2.05384, 0, x, y)"
   ]
  },
  {
   "cell_type": "markdown",
   "metadata": {},
   "source": [
    "Note min total cose is the \"same\" (up to a constant) as min average cost since our data is fixed!"
   ]
  },
  {
   "cell_type": "code",
   "execution_count": 4,
   "metadata": {
    "collapsed": false
   },
   "outputs": [
    {
     "name": "stdout",
     "output_type": "stream",
     "text": [
      "total cost closed form: 0.199738674533 * l2^2 - (-0.1997025438) * l1^2 + -8.00032843835 * l1 * e^(-0.1(l1^2 + l2^2))\n"
     ]
    }
   ],
   "source": [
    "print 'total cost closed form: {} * l2^2 - ({}) * l1^2 + {} * l1 * e^(-0.1(l1^2 + l2^2))'.format(0.000045 * y_sum, 0.000098 * x_sum, 0.003926 * x_sum)"
   ]
  },
  {
   "cell_type": "markdown",
   "metadata": {},
   "source": [
    "Put this total cost function into Wolfram if needed to get global min and gradient!"
   ]
  },
  {
   "cell_type": "code",
   "execution_count": 7,
   "metadata": {
    "collapsed": true
   },
   "outputs": [],
   "source": [
    "#the gradient!!\n",
    "grad = lambda l1, l2, x, y: np.array([-0.000098 * 2 * l1 * x.sum() + 0.003926 *  x.sum() * np.exp(-0.1 * (l1**2 + l2**2)) - 0.003926 * 2 * 0.1 *  x.sum() * l1**2 * np.exp(-0.1 * (l1**2 + l2**2)), 2 * 0.000045 * l2 * y.sum() - 0.1 * 2* 0.003926 *  x.sum() * l1 * l2 * np.exp(-0.1 * (l1**2 + l2**2))])"
   ]
  },
  {
   "cell_type": "markdown",
   "metadata": {},
   "source": [
    "You can literally copy and paste rahul's lecture code and change the gradient line!!\n",
    "\n",
    "***NOTE: YOU SHOULD DO DESCENT USING MEAN COST FUNCTION SO WE CAN COMPARE WITH SGD LATER!!!!***"
   ]
  },
  {
   "cell_type": "code",
   "execution_count": 5,
   "metadata": {
    "collapsed": false
   },
   "outputs": [],
   "source": [
    "#literally code from Rahul's lecture\n",
    "def gradient_descent(x, y, theta_init, step=0.01, maxsteps=0, precision=0.001):\n",
    "    costs = []\n",
    "    m = y.size # number of data points\n",
    "    theta = theta_init\n",
    "    history = [] # to store all thetas\n",
    "   \n",
    "    counter = 0\n",
    "    oldcost = 0\n",
    "\n",
    "    currentcost = L(theta[0], theta[1], x, y)\n",
    "\n",
    "    costs.append(currentcost)\n",
    "    history.append(np.array([0, 0]))\n",
    "    history.append(theta)\n",
    "    \n",
    "    counter+=1\n",
    "    while np.linalg.norm(history[-1] - np.array([2.05384, 0])) > precision:\n",
    "        oldcost=currentcost\n",
    "        gradient = grad(theta[0], theta[1], x, y)\n",
    "        theta = theta - 1000./ len(x) * step * gradient  #I'M SCALING THE MEAN LOST FUNCTION GRADIENT BY FACTOR OF 1000\n",
    "        history.append(theta)\n",
    "        \n",
    "        currentcost = L(theta[0], theta[1], x, y)\n",
    "        costs.append(currentcost)\n",
    "        counter+=1\n",
    "        if maxsteps:\n",
    "            if counter == maxsteps:\n",
    "                break\n",
    "        \n",
    "    return history, costs, counter"
   ]
  },
  {
   "cell_type": "code",
   "execution_count": 9,
   "metadata": {
    "collapsed": false
   },
   "outputs": [
    {
     "name": "stdout",
     "output_type": "stream",
     "text": [
      "how many iters:  4357\n",
      "final cost: -9.93410274893\n",
      "precision to actual param: 0.00099973358973\n"
     ]
    },
    {
     "data": {
      "image/png": "[encoded data removed]",
      "text/plain": [
       "<matplotlib.figure.Figure at 0x1162cb050>"
      ]
     },
     "metadata": {},
     "output_type": "display_data"
    }
   ],
   "source": [
    "#theta_i = [-15, 40] + np.random.rand(2)\n",
    "#theta_i = [-5, 2]\n",
    "#theta_i = [15, 16]\n",
    "#theta_i = [2, 0.5]\n",
    "theta_i = [3, -1]\n",
    "history, cost, iters = gradient_descent(x, y, theta_i, maxsteps=6000)\n",
    "theta = history[-1]\n",
    "print 'how many iters: ', iters\n",
    "print 'final cost:', cost[-1]\n",
    "print 'precision to actual param:', np.linalg.norm(theta - [2.05384, 0])\n",
    "\n",
    "plt.plot(range(len(cost)), cost);"
   ]
  },
  {
   "cell_type": "markdown",
   "metadata": {},
   "source": [
    "***Yay that worked!!!***\n",
    "\n",
    "Again, literally the code is copy and pasted from Rahul's lecture with like one line changed!!!!"
   ]
  },
  {
   "cell_type": "code",
   "execution_count": 21,
   "metadata": {
    "collapsed": false
   },
   "outputs": [],
   "source": [
    "#RAHUL's CODE FROM LECTURE\n",
    "\n",
    "def sgd(x, y, theta_init, step=100, maxsteps=0, precision=0.001):\n",
    "    costs = []\n",
    "    m = len(x) # number of data points\n",
    "    oldtheta = [1000, 1000]\n",
    "    theta = theta_init\n",
    "    history = [] # to store all thetas\n",
    "    grads=[]\n",
    "    counter = 0\n",
    "    oldcost = 0\n",
    "    epoch = 0\n",
    "    i = 0 #index\n",
    "\n",
    "    gradient = grad(theta[0], theta[1], x[i], y[i])\n",
    "    \n",
    "    grads.append(gradient)\n",
    "\n",
    "    currentcost = L(theta[0], theta[1], x, y)\n",
    "    \n",
    "    counter+=1\n",
    "\n",
    "    costsum = currentcost\n",
    "    \n",
    "    costs.append(currentcost)\n",
    "    \n",
    "    history.append(theta)\n",
    "    \n",
    "    \n",
    "    #while abs(currentcost - oldcost) > precision:\n",
    "    while np.linalg.norm(np.array(theta) - np.array([2.05384, 0])) > precision:\n",
    "        #print(\"hi\", precision)\n",
    "        #oldcost=currentcost\n",
    "        gradient = grad(theta[0], theta[1], x[i], y[i])\n",
    "        grads.append(gradient)\n",
    "        oldtheta = theta[:]\n",
    "\n",
    "        theta = theta - step * gradient * 1000  #I'M SCALING THE GRADIENT BY FACTOR OF 1000!!!\n",
    "        \n",
    "        history.append(theta)\n",
    "        i += 1\n",
    "        if i > m - 1:#reached one past the end.\n",
    "            #break\n",
    "            epoch +=1\n",
    "            print epoch\n",
    "            neworder = np.random.permutation(m)\n",
    "            x = x[neworder]\n",
    "            y = y[neworder]\n",
    "            i = 0\n",
    "\n",
    "        oldcost = currentcost\n",
    "        currentcost =  L(theta[0], theta[1], x, y)\n",
    "        costs.append(currentcost)\n",
    "\n",
    "        if maxsteps:\n",
    "            if counter == maxsteps:\n",
    "                break\n",
    "        \n",
    "    \n",
    "    return history, costs, grads, counter, epoch"
   ]
  },
  {
   "cell_type": "code",
   "execution_count": 25,
   "metadata": {
    "collapsed": false
   },
   "outputs": [
    {
     "name": "stdout",
     "output_type": "stream",
     "text": [
      "how many iters:  15969\n",
      "final total cost:  -9.93410275495\n",
      "precision to optimal params:  0.000997364712564\n"
     ]
    },
    {
     "data": {
      "text/plain": [
       "[<matplotlib.lines.Line2D at 0x114712490>]"
      ]
     },
     "execution_count": 25,
     "metadata": {},
     "output_type": "execute_result"
    },
    {
     "data": {
      "image/png": "[encoded data removed]",
      "text/plain": [
       "<matplotlib.figure.Figure at 0x114ebb590>"
      ]
     },
     "metadata": {},
     "output_type": "display_data"
    }
   ],
   "source": [
    "#[4, 2]\n",
    "#theta_i = [1.5, 0.9] \n",
    "#theta_i = [4, 2]\n",
    "#theta_i = [2, 0.5]\n",
    "#theta_i = [-10, 12]\n",
    "theta_i = [3, -1]\n",
    "history, costs, grads, counter, epoch = sgd(x, y, theta_i, step=0.001)\n",
    "print 'how many iters: ', len(costs)\n",
    "print 'final total cost: ', costs[-1]\n",
    "print 'precision to optimal params: ', np.linalg.norm(history[-1] - np.array([2.05384, 0]))\n",
    "plt.plot(range(len(costs[-100:])), costs[-100:])"
   ]
  },
  {
   "cell_type": "markdown",
   "metadata": {
    "collapsed": true
   },
   "source": [
    "***YAY that also worked*** SGD takes more iterations to converge to where you want but each gradient update is faster. NOW TRY DIFFERENT INITIALIZATIONS AND STEPSIZES!!!"
   ]
  },
  {
   "cell_type": "code",
   "execution_count": null,
   "metadata": {
    "collapsed": true
   },
   "outputs": [],
   "source": []
  }
 ],
 "metadata": {
  "anaconda-cloud": {},
  "kernelspec": {
   "display_name": "Python [conda root]",
   "language": "python",
   "name": "conda-root-py"
  },
  "language_info": {
   "codemirror_mode": {
    "name": "ipython",
    "version": 2
   },
   "file_extension": ".py",
   "mimetype": "text/x-python",
   "name": "python",
   "nbconvert_exporter": "python",
   "pygments_lexer": "ipython2",
   "version": "2.7.12"
  }
 },
 "nbformat": 4,
 "nbformat_minor": 1
}
