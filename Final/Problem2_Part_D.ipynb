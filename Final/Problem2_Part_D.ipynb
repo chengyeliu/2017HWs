{
 "cells": [
  {
   "cell_type": "code",
   "execution_count": 1,
   "metadata": {
    "collapsed": true
   },
   "outputs": [],
   "source": [
    "import warnings\n",
    "warnings.filterwarnings('ignore')\n",
    "import theano\n",
    "theano.config.floatX = 'float64'\n",
    "import theano.tensor as t\n",
    "from theano.tensor.nlinalg import det\n",
    "\n",
    "import pymc3 as pm\n",
    "from pymc3 import Normal, Metropolis, sample, MvNormal, Dirichlet, \\\n",
    "    DensityDist, find_MAP, NUTS, Slice\n",
    "from pymc3.math import logsumexp\n",
    "\n",
    "import matplotlib.pyplot as plt\n",
    "from mpl_toolkits.mplot3d import Axes3D\n",
    "\n",
    "import pandas as pd\n",
    "\n",
    "from sklearn.model_selection import train_test_split\n",
    "from sklearn.cluster import KMeans\n",
    "from sklearn.mixture import GaussianMixture\n",
    "\n",
    "import scipy as sp\n",
    "import numpy as np\n",
    "\n",
    "import seaborn as sns\n",
    "%matplotlib inline"
   ]
  },
  {
   "cell_type": "code",
   "execution_count": 2,
   "metadata": {
    "collapsed": false
   },
   "outputs": [
    {
     "data": {
      "text/html": [
       "<div>\n",
       "<table border=\"1\" class=\"dataframe\">\n",
       "  <thead>\n",
       "    <tr style=\"text-align: right;\">\n",
       "      <th></th>\n",
       "      <th>Unnamed: 0</th>\n",
       "      <th>weight</th>\n",
       "      <th>length</th>\n",
       "      <th>head circumference</th>\n",
       "      <th>gestation age</th>\n",
       "      <th>mothers age</th>\n",
       "      <th>mothers income</th>\n",
       "      <th>mothers years of post-2nd edu</th>\n",
       "    </tr>\n",
       "  </thead>\n",
       "  <tbody>\n",
       "    <tr>\n",
       "      <th>0</th>\n",
       "      <td>0</td>\n",
       "      <td>5.671598</td>\n",
       "      <td>35.511059</td>\n",
       "      <td>30.807990</td>\n",
       "      <td>1.0</td>\n",
       "      <td>19.0</td>\n",
       "      <td>48119.767546</td>\n",
       "      <td>5.0</td>\n",
       "    </tr>\n",
       "    <tr>\n",
       "      <th>1</th>\n",
       "      <td>1</td>\n",
       "      <td>2.736292</td>\n",
       "      <td>38.844446</td>\n",
       "      <td>28.546780</td>\n",
       "      <td>1.0</td>\n",
       "      <td>21.0</td>\n",
       "      <td>47964.303743</td>\n",
       "      <td>2.0</td>\n",
       "    </tr>\n",
       "    <tr>\n",
       "      <th>2</th>\n",
       "      <td>2</td>\n",
       "      <td>2.007545</td>\n",
       "      <td>41.351882</td>\n",
       "      <td>30.397939</td>\n",
       "      <td>1.0</td>\n",
       "      <td>19.0</td>\n",
       "      <td>48132.680505</td>\n",
       "      <td>4.0</td>\n",
       "    </tr>\n",
       "    <tr>\n",
       "      <th>3</th>\n",
       "      <td>3</td>\n",
       "      <td>3.716350</td>\n",
       "      <td>36.891095</td>\n",
       "      <td>25.626810</td>\n",
       "      <td>1.0</td>\n",
       "      <td>22.0</td>\n",
       "      <td>48073.686796</td>\n",
       "      <td>4.0</td>\n",
       "    </tr>\n",
       "    <tr>\n",
       "      <th>4</th>\n",
       "      <td>5</td>\n",
       "      <td>2.336969</td>\n",
       "      <td>39.484994</td>\n",
       "      <td>31.680547</td>\n",
       "      <td>1.0</td>\n",
       "      <td>22.0</td>\n",
       "      <td>48003.589748</td>\n",
       "      <td>4.0</td>\n",
       "    </tr>\n",
       "  </tbody>\n",
       "</table>\n",
       "</div>"
      ],
      "text/plain": [
       "   Unnamed: 0    weight     length  head circumference  gestation age  \\\n",
       "0           0  5.671598  35.511059           30.807990            1.0   \n",
       "1           1  2.736292  38.844446           28.546780            1.0   \n",
       "2           2  2.007545  41.351882           30.397939            1.0   \n",
       "3           3  3.716350  36.891095           25.626810            1.0   \n",
       "4           5  2.336969  39.484994           31.680547            1.0   \n",
       "\n",
       "   mothers age  mothers income  mothers years of post-2nd edu  \n",
       "0         19.0    48119.767546                            5.0  \n",
       "1         21.0    47964.303743                            2.0  \n",
       "2         19.0    48132.680505                            4.0  \n",
       "3         22.0    48073.686796                            4.0  \n",
       "4         22.0    48003.589748                            4.0  "
      ]
     },
     "execution_count": 2,
     "metadata": {},
     "output_type": "execute_result"
    }
   ],
   "source": [
    "df_train = pd.read_csv('birth_data_train_n.csv')\n",
    "df_train.head()\n",
    "prem = lambda x: 0. if x / 7. > 36. else 1.\n",
    "df_train.loc[:, 'gestation age'] = df_train['gestation age'].apply(prem)\n",
    "df_train.head()"
   ]
  },
  {
   "cell_type": "code",
   "execution_count": 3,
   "metadata": {
    "collapsed": false
   },
   "outputs": [
    {
     "data": {
      "image/png": "[encoded data removed]",
      "text/plain": [
       "<matplotlib.figure.Figure at 0x7f8fba11dc18>"
      ]
     },
     "metadata": {},
     "output_type": "display_data"
    }
   ],
   "source": [
    "prem_df = df_train[df_train['gestation age'] == 1]\n",
    "reg_df = df_train[df_train['gestation age'] == 0]\n",
    "\n",
    "fig = plt.figure()\n",
    "ax = fig.add_subplot(111, projection='3d')\n",
    "ax.scatter(prem_df['weight'].values, prem_df['length'].values, prem_df['head circumference'].values, color='b', alpha=0.1)\n",
    "ax.scatter(reg_df['weight'].values, reg_df['length'].values, reg_df['head circumference'].values, color='r', alpha=0.1)\n",
    "plt.show()"
   ]
  },
  {
   "cell_type": "code",
   "execution_count": 4,
   "metadata": {
    "collapsed": false
   },
   "outputs": [
    {
     "data": {
      "text/html": [
       "<div>\n",
       "<table border=\"1\" class=\"dataframe\">\n",
       "  <thead>\n",
       "    <tr style=\"text-align: right;\">\n",
       "      <th></th>\n",
       "      <th>Unnamed: 0</th>\n",
       "      <th>weight</th>\n",
       "      <th>length</th>\n",
       "      <th>head circumference</th>\n",
       "      <th>gestation age</th>\n",
       "      <th>mothers age</th>\n",
       "      <th>mothers income</th>\n",
       "      <th>mothers years of post-2nd edu</th>\n",
       "    </tr>\n",
       "  </thead>\n",
       "  <tbody>\n",
       "    <tr>\n",
       "      <th>0</th>\n",
       "      <td>0</td>\n",
       "      <td>6.133074</td>\n",
       "      <td>48.826057</td>\n",
       "      <td>39.759585</td>\n",
       "      <td>0.0</td>\n",
       "      <td>22.0</td>\n",
       "      <td>49998.639713</td>\n",
       "      <td>3.0</td>\n",
       "    </tr>\n",
       "    <tr>\n",
       "      <th>1</th>\n",
       "      <td>1</td>\n",
       "      <td>2.547261</td>\n",
       "      <td>42.876142</td>\n",
       "      <td>36.083351</td>\n",
       "      <td>0.0</td>\n",
       "      <td>19.0</td>\n",
       "      <td>49956.664052</td>\n",
       "      <td>4.0</td>\n",
       "    </tr>\n",
       "    <tr>\n",
       "      <th>2</th>\n",
       "      <td>2</td>\n",
       "      <td>4.395539</td>\n",
       "      <td>40.078613</td>\n",
       "      <td>42.956421</td>\n",
       "      <td>0.0</td>\n",
       "      <td>20.0</td>\n",
       "      <td>49980.427018</td>\n",
       "      <td>3.0</td>\n",
       "    </tr>\n",
       "    <tr>\n",
       "      <th>3</th>\n",
       "      <td>3</td>\n",
       "      <td>2.788943</td>\n",
       "      <td>47.792807</td>\n",
       "      <td>42.615776</td>\n",
       "      <td>0.0</td>\n",
       "      <td>22.0</td>\n",
       "      <td>50057.775262</td>\n",
       "      <td>5.0</td>\n",
       "    </tr>\n",
       "    <tr>\n",
       "      <th>4</th>\n",
       "      <td>4</td>\n",
       "      <td>4.476369</td>\n",
       "      <td>44.304450</td>\n",
       "      <td>37.777845</td>\n",
       "      <td>0.0</td>\n",
       "      <td>21.0</td>\n",
       "      <td>49935.312928</td>\n",
       "      <td>3.0</td>\n",
       "    </tr>\n",
       "  </tbody>\n",
       "</table>\n",
       "</div>"
      ],
      "text/plain": [
       "   Unnamed: 0    weight     length  head circumference  gestation age  \\\n",
       "0           0  6.133074  48.826057           39.759585            0.0   \n",
       "1           1  2.547261  42.876142           36.083351            0.0   \n",
       "2           2  4.395539  40.078613           42.956421            0.0   \n",
       "3           3  2.788943  47.792807           42.615776            0.0   \n",
       "4           4  4.476369  44.304450           37.777845            0.0   \n",
       "\n",
       "   mothers age  mothers income  mothers years of post-2nd edu  \n",
       "0         22.0    49998.639713                            3.0  \n",
       "1         19.0    49956.664052                            4.0  \n",
       "2         20.0    49980.427018                            3.0  \n",
       "3         22.0    50057.775262                            5.0  \n",
       "4         21.0    49935.312928                            3.0  "
      ]
     },
     "execution_count": 4,
     "metadata": {},
     "output_type": "execute_result"
    }
   ],
   "source": [
    "df_test = pd.read_csv('birth_data_test_n.csv')\n",
    "df_test.head()\n",
    "prem = lambda x: 0. if x / 7. > 36. else 1.\n",
    "df_test.loc[:, 'gestation age'] = df_test['gestation age'].apply(prem)\n",
    "df_test.head()"
   ]
  },
  {
   "cell_type": "code",
   "execution_count": 5,
   "metadata": {
    "collapsed": false
   },
   "outputs": [
    {
     "data": {
      "image/png": "[encoded data removed]",
      "text/plain": [
       "<matplotlib.figure.Figure at 0x7f8fba11dbe0>"
      ]
     },
     "metadata": {},
     "output_type": "display_data"
    }
   ],
   "source": [
    "prem_df = df_test[df_test['gestation age'] == 1]\n",
    "reg_df = df_test[df_test['gestation age'] == 0]\n",
    "\n",
    "fig = plt.figure()\n",
    "ax = fig.add_subplot(111, projection='3d')\n",
    "ax.scatter(prem_df['weight'].values, prem_df['length'].values, prem_df['head circumference'].values, color='b', alpha=0.1)\n",
    "ax.scatter(reg_df['weight'].values, reg_df['length'].values, reg_df['head circumference'].values, color='r', alpha=0.1)\n",
    "plt.show()"
   ]
  },
  {
   "cell_type": "code",
   "execution_count": 6,
   "metadata": {
    "collapsed": true
   },
   "outputs": [],
   "source": [
    "#covariates\n",
    "train_cov = df_train[['mothers age', 'mothers income', 'mothers years of post-2nd edu']].values\n",
    "covariates = t._shared(train_cov)\n",
    "\n",
    "#training data\n",
    "train_x = df_train[['weight', 'length', 'head circumference']].values\n",
    "train_y = df_train['gestation age'].values\n",
    "x_obs = t._shared(train_x)\n",
    "n_samples = len(train_x)\n",
    "\n",
    "#testing data\n",
    "test_x = df_test[['weight', 'length', 'head circumference']].values\n",
    "test_y = df_test['gestation age'].values\n",
    "\n",
    "dim = train_x.shape[1]"
   ]
  },
  {
   "cell_type": "code",
   "execution_count": 7,
   "metadata": {
    "collapsed": false
   },
   "outputs": [],
   "source": [
    "# Log likelihood of normal distribution\n",
    "def logp_normal(mu, tau, value):\n",
    "    # log probability of individual samples\n",
    "    k = tau.shape[0]\n",
    "    delta = lambda mu: value - mu\n",
    "    return (-1 / 2.) * (k * t.log(2 * np.pi) + t.log(1./det(tau)) +\n",
    "                         (delta(mu).dot(tau) * delta(mu)).sum(axis=1))\n",
    "\n",
    "# Log likelihood of Gaussian mixture distribution\n",
    "def logp_gmix(mus, pi, tau0, tau1):\n",
    "    def logp_(value):\n",
    "        logps = [t.log(pi[0]) + logp_normal(mus[0], tau0, value), \n",
    "                 t.log(pi[1]) + logp_normal(mus[1], tau1, value)]\n",
    "\n",
    "        return t.sum(logsumexp(t.stacklists(logps)[:, :n_samples], axis=0))\n",
    "\n",
    "    return logp_\n",
    "\n",
    "with pm.Model() as model_1:\n",
    "    \n",
    "    sigma0 = pm.Uniform('sigma0', 0, 20, shape=dim)\n",
    "    sigma1 = pm.Uniform('sigma1', 0, 20, shape=dim)\n",
    "    \n",
    "  \n",
    "    sigma_diag0 = pm.Deterministic('cov0', t.nlinalg.diag(sigma0))\n",
    "    tau0 = pm.Deterministic('tau0', t.nlinalg.matrix_inverse(sigma_diag0))\n",
    "    \n",
    "    sigma_diag1 = pm.Deterministic('cov1', t.nlinalg.diag(sigma1))\n",
    "    tau1 = pm.Deterministic('tau1', t.nlinalg.matrix_inverse(sigma_diag1))\n",
    "    \n",
    "    \n",
    "    mus = t.stack([MvNormal('mu_%d' % i, mu=np.zeros(3) + 5., tau=0.01 * np.eye(3), shape=(3,))\n",
    "           for i in range(2)])\n",
    "    pi = Dirichlet('pi', a=100 * np.ones(2), shape=(2,))\n",
    "    \n",
    "    xs = DensityDist('x', logp_gmix(mus, pi, tau0, tau1), observed=x_obs)"
   ]
  },
  {
   "cell_type": "code",
   "execution_count": 8,
   "metadata": {
    "collapsed": false
   },
   "outputs": [
    {
     "name": "stdout",
     "output_type": "stream",
     "text": [
      "Optimization terminated successfully.\n",
      "         Current function value: 8362.114249\n",
      "         Iterations: 110\n",
      "         Function evaluations: 172\n",
      "         Gradient evaluations: 172\n"
     ]
    },
    {
     "name": "stderr",
     "output_type": "stream",
     "text": [
      "100%|██████████| 100000/100000 [05:45<00:00, 289.69it/s]\n"
     ]
    }
   ],
   "source": [
    "with model_1:\n",
    "    start = find_MAP()\n",
    "    step = pm.Metropolis()\n",
    "    trace = sample(100000, step=step)"
   ]
  },
  {
   "cell_type": "code",
   "execution_count": 9,
   "metadata": {
    "collapsed": false
   },
   "outputs": [
    {
     "data": {
      "text/plain": [
       "{'mu_0': array([  3.87798117,  44.65375353,  37.64367962]),\n",
       " 'mu_1': array([  3.10160979,  40.87198855,  29.49630504]),\n",
       " 'pi_stickbreaking_': array([ 0.62871983]),\n",
       " 'sigma0_interval_': array([-3.01887253, -0.48250947,  0.20858633]),\n",
       " 'sigma1_interval_': array([-2.44574641,  1.59538224,  0.09877115])}"
      ]
     },
     "execution_count": 9,
     "metadata": {},
     "output_type": "execute_result"
    }
   ],
   "source": [
    "start"
   ]
  },
  {
   "cell_type": "code",
   "execution_count": 10,
   "metadata": {
    "collapsed": false
   },
   "outputs": [
    {
     "data": {
      "text/plain": [
       "array([[<matplotlib.axes._subplots.AxesSubplot object at 0x7f8f8df13550>],\n",
       "       [<matplotlib.axes._subplots.AxesSubplot object at 0x7f8f8c4994a8>]], dtype=object)"
      ]
     },
     "execution_count": 10,
     "metadata": {},
     "output_type": "execute_result"
    },
    {
     "data": {
      "image/png": "[encoded data removed]",
      "text/plain": [
       "<matplotlib.figure.Figure at 0x7f8f8eea31d0>"
      ]
     },
     "metadata": {},
     "output_type": "display_data"
    }
   ],
   "source": [
    "pm.autocorrplot(trace[10000::10], varnames=['pi'])"
   ]
  },
  {
   "cell_type": "code",
   "execution_count": 11,
   "metadata": {
    "collapsed": false
   },
   "outputs": [
    {
     "data": {
      "text/plain": [
       "(16629.877812407969, 0.0)"
      ]
     },
     "execution_count": 11,
     "metadata": {},
     "output_type": "execute_result"
    }
   ],
   "source": [
    "pm.stats.waic(trace[10000::10], model_1)"
   ]
  },
  {
   "cell_type": "code",
   "execution_count": 12,
   "metadata": {
    "collapsed": false
   },
   "outputs": [
    {
     "name": "stdout",
     "output_type": "stream",
     "text": [
      "train error posterior: 0.0940170940171\n"
     ]
    }
   ],
   "source": [
    "pi_1 = trace['pi'][10000::10][:, 1].mean()\n",
    "\n",
    "pi_0 = trace['pi'][10000::10][:, 0].mean()\n",
    "sigma_0 = trace['sigma0'][10000::10].mean(axis=0)\n",
    "sigma_1 =trace['sigma1'][10000::10].mean(axis=0)\n",
    "\n",
    "mu_0 = trace['mu_0'][10000::10].mean(axis=0)\n",
    "\n",
    "mu_1 = trace['mu_1'][10000::10].mean(axis=0)\n",
    "\n",
    "def label(sigma_0, sigma_1, mu_0, mu_1, pi_0, pi_1, x):\n",
    "    \n",
    "    cov_0 = np.diag(sigma_0)\n",
    "    cl_0 = sp.stats.multivariate_normal(mu_0, cov_0) \n",
    "\n",
    "    cov_1 = np.diag(sigma_1)\n",
    "    cl_1 = sp.stats.multivariate_normal(mu_1, cov_1) \n",
    "    \n",
    "    p0 = cl_0.pdf(x) * pi_0\n",
    "    p1 = cl_1.pdf(x) * pi_1\n",
    "    l = np.argmax(np.vstack((p0, p1)).T, axis=1)\n",
    "\n",
    "    return l\n",
    "\n",
    "post = label(sigma_0, sigma_1, mu_0, mu_1, pi_0, pi_1, train_x)\n",
    "print('train error posterior:',1- abs(post - train_y).sum() / len(train_y))"
   ]
  },
  {
   "cell_type": "code",
   "execution_count": 13,
   "metadata": {
    "collapsed": false
   },
   "outputs": [
    {
     "name": "stdout",
     "output_type": "stream",
     "text": [
      "actual percent of 1: 0.230769230769\n"
     ]
    }
   ],
   "source": [
    "print('actual percent of 1:', train_y.sum()/len(train_y))"
   ]
  },
  {
   "cell_type": "code",
   "execution_count": 14,
   "metadata": {
    "collapsed": false
   },
   "outputs": [
    {
     "name": "stdout",
     "output_type": "stream",
     "text": [
      "error rate train kmeans:  0.13760683760683762\n"
     ]
    }
   ],
   "source": [
    "kmeans = KMeans(n_clusters=2, random_state=0).fit(train_x)\n",
    "diff = ((kmeans.labels_) - train_y)\n",
    "print ('error rate train kmeans: ', len(diff[diff != 0]) * 1./ len(df_train))"
   ]
  },
  {
   "cell_type": "code",
   "execution_count": 15,
   "metadata": {
    "collapsed": false
   },
   "outputs": [
    {
     "name": "stdout",
     "output_type": "stream",
     "text": [
      "error rate test kmeans:  0.16666666666666666\n"
     ]
    }
   ],
   "source": [
    "diff = (( kmeans.predict(test_x)) - test_y)\n",
    "print ('error rate test kmeans: ', len(diff[diff != 0]) * 1./ len(df_test))"
   ]
  },
  {
   "cell_type": "code",
   "execution_count": 17,
   "metadata": {
    "collapsed": false
   },
   "outputs": [
    {
     "name": "stdout",
     "output_type": "stream",
     "text": [
      "error rate train mle:  0.11880341880341883\n"
     ]
    }
   ],
   "source": [
    "gmm = GaussianMixture(n_components=2, covariance_type='full').fit(train_x)\n",
    "diff = train_y - (gmm.predict(train_x))\n",
    "print ('error rate train mle: ', 1- len(diff[diff != 0]) * 1. / len(df_train))"
   ]
  },
  {
   "cell_type": "code",
   "execution_count": 19,
   "metadata": {
    "collapsed": false
   },
   "outputs": [
    {
     "name": "stdout",
     "output_type": "stream",
     "text": [
      "error rate test mle:  0.1394557823129252\n"
     ]
    }
   ],
   "source": [
    "diff = test_y - (gmm.predict(test_x))\n",
    "print ('error rate test mle: ', 1- len(diff[diff != 0]) * 1. / len(df_test))"
   ]
  },
  {
   "cell_type": "code",
   "execution_count": 20,
   "metadata": {
    "collapsed": false
   },
   "outputs": [
    {
     "name": "stdout",
     "output_type": "stream",
     "text": [
      "test error posterior: 0.12925170068\n"
     ]
    }
   ],
   "source": [
    "post = label(sigma_0, sigma_1, mu_0, mu_1, pi_0, pi_1, test_x)\n",
    "print('test error posterior:', 1 - abs(post - test_y).sum() / len(test_y))"
   ]
  }
 ],
 "metadata": {
  "kernelspec": {
   "display_name": "Python 3",
   "language": "python",
   "name": "python3"
  },
  "language_info": {
   "codemirror_mode": {
    "name": "ipython",
    "version": 3
   },
   "file_extension": ".py",
   "mimetype": "text/x-python",
   "name": "python",
   "nbconvert_exporter": "python",
   "pygments_lexer": "ipython3",
   "version": "3.6.0"
  }
 },
 "nbformat": 4,
 "nbformat_minor": 2
}
