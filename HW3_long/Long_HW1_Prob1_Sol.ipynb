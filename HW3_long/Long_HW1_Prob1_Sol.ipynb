{
 "cells": [
  {
   "cell_type": "code",
   "execution_count": 1,
   "metadata": {
    "collapsed": false
   },
   "outputs": [
    {
     "name": "stdout",
     "output_type": "stream",
     "text": [
      "Populating the interactive namespace from numpy and matplotlib\n"
     ]
    }
   ],
   "source": [
    "%pylab inline\n",
    "\n",
    "import matplotlib.pyplot as plt\n",
    "import six.moves.cPickle as pickle\n",
    "import gzip\n",
    "import os\n",
    "import sys\n",
    "import timeit\n",
    "\n",
    "import numpy as np\n",
    "\n",
    "import theano\n",
    "import theano.tensor as T\n",
    "import matplotlib.pyplot as plt\n",
    "import csv\n",
    "import pandas as pd\n",
    "import six.moves.cPickle as pickle"
   ]
  },
  {
   "cell_type": "code",
   "execution_count": 108,
   "metadata": {
    "collapsed": false
   },
   "outputs": [],
   "source": [
    "# Load MNIST dataset\n",
    "dataset='mnist.pkl.gz'\n",
    "with gzip.open(dataset, 'rb') as f:\n",
    "        try:\n",
    "            train_set, valid_set, test_set = pickle.load(f, encoding='latin1')\n",
    "        except:\n",
    "            train_set, valid_set, test_set = pickle.load(f)"
   ]
  },
  {
   "cell_type": "code",
   "execution_count": 109,
   "metadata": {
    "collapsed": false
   },
   "outputs": [
    {
     "name": "stdout",
     "output_type": "stream",
     "text": [
      "784\n",
      "(50000,)\n"
     ]
    }
   ],
   "source": [
    "print(len(train_set[0][0]))\n",
    "print(shape(train_set[1]))"
   ]
  },
  {
   "cell_type": "code",
   "execution_count": 110,
   "metadata": {
    "collapsed": false
   },
   "outputs": [],
   "source": [
    "batch_size = 256  # Size of minibatch\n",
    "n_train_batches = shape(train_set[0])[0] // batch_size\n",
    "n_valid_batches = shape(valid_set[0])[0] // batch_size\n",
    "n_test_batches = shape(test_set[0])[0] // batch_size"
   ]
  },
  {
   "cell_type": "code",
   "execution_count": 111,
   "metadata": {
    "collapsed": false
   },
   "outputs": [],
   "source": [
    "# Declare Theano symbolic variables\n",
    "x = T.dmatrix(\"x\")\n",
    "y = T.lvector(\"y\")"
   ]
  },
  {
   "cell_type": "code",
   "execution_count": 112,
   "metadata": {
    "collapsed": false
   },
   "outputs": [],
   "source": [
    "# initialize the weight vector w randomly\n",
    "#\n",
    "# this and the following bias variable b\n",
    "# are shared so they keep their values\n",
    "# between training iterations (updates)\n",
    "w = theano.shared(np.random.randn(len(train_set[0][0]), len(np.unique(train_set[1]))),\n",
    "                name='w',borrow=True)"
   ]
  },
  {
   "cell_type": "code",
   "execution_count": 113,
   "metadata": {
    "collapsed": false
   },
   "outputs": [],
   "source": [
    "# initialize the bias term\n",
    "b = theano.shared(value=numpy.zeros((len(np.unique(train_set[1])),)),\n",
    "            name='b',borrow=True)"
   ]
  },
  {
   "cell_type": "code",
   "execution_count": 114,
   "metadata": {
    "collapsed": false
   },
   "outputs": [
    {
     "name": "stdout",
     "output_type": "stream",
     "text": [
      "Initial model:\n",
      "[[ 0.65538523 -0.13979254  0.65265932 ...,  1.64312998 -0.54575824\n",
      "   0.08941548]\n",
      " [ 0.92287053 -0.01076872  0.4052424  ...,  1.04279573  0.02905841\n",
      "  -1.10207515]\n",
      " [ 1.51239859  0.83715661 -0.07232577 ...,  0.27079049 -2.01168585\n",
      "  -0.83924153]\n",
      " ..., \n",
      " [-0.37490001  1.36867883  0.32064766 ...,  0.21604199  1.46796592\n",
      "  -0.69053784]\n",
      " [-0.7534331   1.40013677  1.03395916 ...,  0.5986936  -0.21413467\n",
      "   0.34948113]\n",
      " [-0.19601581 -1.80756007 -0.98351946 ..., -1.25609538  0.95321336\n",
      "   0.923801  ]]\n",
      "[ 0.  0.  0.  0.  0.  0.  0.  0.  0.  0.]\n"
     ]
    }
   ],
   "source": [
    "print(\"Initial model:\")\n",
    "print(w.get_value())\n",
    "print(b.get_value())"
   ]
  },
  {
   "cell_type": "code",
   "execution_count": 115,
   "metadata": {
    "collapsed": false
   },
   "outputs": [],
   "source": [
    "# Construct Theano expression graph\n",
    "lambd = 0.001 # L2 regularization factor\n",
    "p_y_given_x = T.nnet.softmax(T.dot(x, w) + b)   # Probability that target belongs to class i\n",
    "prediction = T.argmax(p_y_given_x, axis=1)      # The prediction of the model (class whose probability is maximal)\n",
    "#T.mean(T.neq(pred,train_set[1][index * batch_size: (index + 1) * batch_size]))\n",
    "loss = -T.mean(T.log(p_y_given_x)[T.arange(y.shape[0]), y])  # Loss function\n",
    "cost = loss.mean() + lambd * (w ** 2).sum()      # The cost to minimize\n",
    "gw = T.grad(cost=cost, wrt=w)\n",
    "gb = T.grad(cost=cost, wrt=b)                   # Compute the gradient of the cost\n",
    "                                                # w.r.t weight vector w and\n",
    "                                                # bias term b\n",
    "                                                # (we shall return to this in a\n",
    "                                                # following section of this tutorial)"
   ]
  },
  {
   "cell_type": "code",
   "execution_count": 116,
   "metadata": {
    "collapsed": false
   },
   "outputs": [],
   "source": [
    "from theano import function\n",
    "# Function to count errors\n",
    "aa = T.dvector('aa')\n",
    "bb = T.dvector('bb')\n",
    "cc = T.mean(T.neq(aa, bb))\n",
    "f_err = function([aa, bb], cc)"
   ]
  },
  {
   "cell_type": "code",
   "execution_count": 117,
   "metadata": {
    "collapsed": false
   },
   "outputs": [],
   "source": [
    "# Compile\n",
    "eta = 0.1\n",
    "train = theano.function(\n",
    "          inputs=[x,y],\n",
    "          outputs=[prediction, cost],\n",
    "          updates=((w, w - eta * gw), (b, b - eta * gb)),name='train')\n",
    "validate = theano.function(\n",
    "          inputs=[x,y],\n",
    "          outputs=[prediction, cost],name='validate')\n",
    "test = theano.function(\n",
    "          inputs=[x,y],\n",
    "          outputs=[prediction, cost],name='test')\n",
    "predict = theano.function(inputs=[x], outputs=prediction, name='predict')\n"
   ]
  },
  {
   "cell_type": "code",
   "execution_count": 118,
   "metadata": {
    "collapsed": true
   },
   "outputs": [],
   "source": [
    "n_epochs = 70"
   ]
  },
  {
   "cell_type": "code",
   "execution_count": 119,
   "metadata": {
    "collapsed": false
   },
   "outputs": [
    {
     "name": "stdout",
     "output_type": "stream",
     "text": [
      "13650\n",
      "137\n",
      "137\n"
     ]
    },
    {
     "data": {
      "text/plain": [
       "(0.0, 13600.0, 0.39196225836067267, 20.66975615024279)"
      ]
     },
     "execution_count": 119,
     "metadata": {},
     "output_type": "execute_result"
    },
    {
     "data": {
      "image/png": "[encoded data removed]",
      "text/plain": [
       "<matplotlib.figure.Figure at 0x1285e8080>"
      ]
     },
     "metadata": {},
     "output_type": "display_data"
    }
   ],
   "source": [
    "# Train\n",
    "error_train = []\n",
    "error_valid = []\n",
    "error_test = []\n",
    "for i in range(n_epochs):\n",
    "    \n",
    "    for index in range(n_train_batches):\n",
    "        \n",
    "        pred, err = train(train_set[0][index * batch_size: (index + 1) * batch_size], \\\n",
    "                          train_set[1][index * batch_size: (index + 1) * batch_size])\n",
    "        error_train.append(err)\n",
    "        \n",
    "        errores = []\n",
    "        errores1 = []\n",
    "        if ((i*n_train_batches+index)%100 == 0):\n",
    "            for j in range(n_valid_batches):\n",
    "                pred_val, err_val = validate(valid_set[0][j * batch_size: (j + 1) * batch_size], \\\n",
    "                              valid_set[1][j * batch_size: (j + 1) * batch_size])\n",
    "                errores.append(err_val)\n",
    "            this_error = np.mean(errores)\n",
    "            error_valid.append(this_error)\n",
    "            \n",
    "            for h in range(n_test_batches):\n",
    "                pred_test, err_test = test(test_set[0][h * batch_size: (h + 1) * batch_size], \\\n",
    "                              test_set[1][h * batch_size: (h + 1) * batch_size])\n",
    "                errores1.append(err_test)\n",
    "            this_error1 = np.mean(errores1)\n",
    "            error_test.append(this_error1)\n",
    "            \n",
    "print(len(error_train))\n",
    "print(len(error_valid))\n",
    "print(len(error_test))\n",
    "\n",
    "\n",
    "#print(len(error_test))\n",
    "avg_train_loss = []\n",
    "for i in range(int(n_epochs*n_train_batches/100)):\n",
    "    avg_train_loss.append(median(error_train[i*100:i*100+100]))\n",
    "\n",
    "\n",
    "plt.plot(100*arange(len(error_valid)),error_valid,marker='o',color='red',alpha=0.7)\n",
    "#plt.plot(50+100*arange(len(avg_train_loss)),avg_train_loss,marker='^',color='orange',alpha=0.7)\n",
    "\n",
    "plt.yscale('log')\n",
    "plt.axis('tight')"
   ]
  },
  {
   "cell_type": "code",
   "execution_count": 120,
   "metadata": {
    "collapsed": false
   },
   "outputs": [
    {
     "data": {
      "text/plain": [
       "(0.293, 0.297)"
      ]
     },
     "execution_count": 120,
     "metadata": {},
     "output_type": "execute_result"
    },
    {
     "data": {
      "image/png": "[encoded data removed]",
      "text/plain": [
       "<matplotlib.figure.Figure at 0x114aac0b8>"
      ]
     },
     "metadata": {},
     "output_type": "display_data"
    }
   ],
   "source": [
    "plt.plot(100*arange(len(error_valid)),error_valid,marker='o',color='red',alpha=0.7)\n",
    "\n",
    "#plt.plot(100*arange(len(error_valid)),error_no_val,marker='o',color='blue',alpha=0.7)\n",
    "#plt.plot(100*arange(len(error_valid)),np.array(error_val_01),marker='o',color='red',alpha=0.7)\n",
    "#plt.plot(100*arange(len(error_valid)),error_val_1,marker='o',color='orange',alpha=0.7)\n",
    "#plt.plot(100*arange(len(error_valid)),error_val_001,marker='o',color='green',alpha=0.7)\n",
    "#plt.plot(100*arange(len(error_valid)),error_val_0001,marker='o',color='pink',alpha=0.7)\n",
    "\n",
    "#plt.plot(50+100*arange(len(avg_train_loss)),np.array(avg_train_loss)-0.03,marker='^',color='orange',alpha=0.7)\n",
    "\n",
    "plt.xlim(11000,14000)\n",
    "plt.ylim(0.293,0.297)\n",
    "#plt.yscale('log')\n",
    "#plt.axis('tight')\n",
    "\n",
    "#error_val_0001 = error_valid"
   ]
  },
  {
   "cell_type": "code",
   "execution_count": 121,
   "metadata": {
    "collapsed": false
   },
   "outputs": [
    {
     "name": "stdout",
     "output_type": "stream",
     "text": [
      "target values for D:\n",
      "[7 2 1 ..., 4 5 6]\n",
      "prediction on D:\n",
      "[7 2 1 ..., 4 5 6]\n",
      "Test error =  8.2\n"
     ]
    }
   ],
   "source": [
    "print(\"target values for D:\")\n",
    "print(test_set[1])\n",
    "print(\"prediction on D:\")\n",
    "print(predict(test_set[0]))\n",
    "print('Test error = ',100.*f_err(test_set[1],predict(test_set[0])))"
   ]
  },
  {
   "cell_type": "code",
   "execution_count": null,
   "metadata": {
    "collapsed": true
   },
   "outputs": [],
   "source": []
  }
 ],
 "metadata": {
  "anaconda-cloud": {},
  "kernelspec": {
   "display_name": "Python [py36]",
   "language": "python",
   "name": "Python [py36]"
  },
  "language_info": {
   "codemirror_mode": {
    "name": "ipython",
    "version": 3
   },
   "file_extension": ".py",
   "mimetype": "text/x-python",
   "name": "python",
   "nbconvert_exporter": "python",
   "pygments_lexer": "ipython3",
   "version": "3.6.0"
  }
 },
 "nbformat": 4,
 "nbformat_minor": 0
}
