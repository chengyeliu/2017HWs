{
 "cells": [
  {
   "cell_type": "markdown",
   "metadata": {},
   "source": [
    "# APMTH 207: Advanced Scientific Computing: \n",
    "## Stochastic Methods for Data Analysis, Inference and Optimization\n",
    "## Homework #2\n",
    "**Harvard University**<br>\n",
    "**Spring 2017**<br>\n",
    "**Instructors: Rahul Dave**<br>\n",
    "**Due Date: ** Thursday, Febrary 9th, 2017 at 11:59pm\n",
    "\n",
    "**Instructions:**\n",
    "\n",
    "- Upload your final answers as well as your iPython notebook containing all work to Canvas.\n",
    "\n",
    "- Structure your notebook and your work to maximize readability."
   ]
  },
  {
   "cell_type": "markdown",
   "metadata": {},
   "source": [
    "## Problem 1: Monte Carlo Integration\n",
    "\n",
    "Let $X$ be a random variable with distribution described by the following pdf:\n",
    "$$\n",
    "f_X(x) = \\begin{cases}\n",
    "\\frac{1}{6}(x-1), &1\\leq x\\leq 3\\\\\n",
    "-\\frac{1}{6}(x-5), &3\\leq x\\leq 5\\\\\n",
    "\\frac{1}{3}(x-5), &5\\leq x\\leq 7\\\\\n",
    "-\\frac{1}{3}(x-9), &7\\leq x\\leq 9\\\\\n",
    "0, &otherwise\n",
    "\\end{cases}\n",
    "$$\n",
    "Let $h$ be the following function of $X$:\n",
    "$$\n",
    "h(X) = \\frac{1}{\\sqrt{2}\\pi}\\mathrm{exp}\\left\\{ -\\frac{1}{2}\\left( 1 - X^2\\right)\\right\\}\n",
    "$$\n",
    "\n",
    "Compute $\\mathbb{E}[h(X)]$ via Monte Carlo simulation using the following sampling methods:\n",
    "- inverse transform sampling\n",
    "- rejection sampling with both uniform proposal distribution and normal proposal distribution (with appropriately chosen parameters)\n",
    "- importance sampling with both uniform proposal distribution and normal proposal distribution (with appropriately chosen parameters)"
   ]
  },
  {
   "cell_type": "markdown",
   "metadata": {},
   "source": [
    "## Problem 2: Variance Reduction\n",
    "\n",
    "### Part A\n",
    "\n",
    "- Compute the variance of each estimate of $\\mathbb{E}[h(X)]$ obtained in Problem 1. Which sampling methods, proposal distributions resulted in lower variances? Are the results what you expected?\n",
    "\n",
    "- What can be done to further reduce the variance of the estimate of $\\mathbb{E}[h(X)]$ resulting from each sampling method?\n",
    "\n",
    "### Part B\n",
    "\n",
    "- [I want them to try strattified sampling and control variates]"
   ]
  }
 ],
 "metadata": {
  "anaconda-cloud": {},
  "kernelspec": {
   "display_name": "Python [conda root]",
   "language": "python",
   "name": "conda-root-py"
  },
  "language_info": {
   "codemirror_mode": {
    "name": "ipython",
    "version": 2
   },
   "file_extension": ".py",
   "mimetype": "text/x-python",
   "name": "python",
   "nbconvert_exporter": "python",
   "pygments_lexer": "ipython2",
   "version": "2.7.12"
  }
 },
 "nbformat": 4,
 "nbformat_minor": 1
}
