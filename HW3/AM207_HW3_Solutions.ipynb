{
 "cells": [
  {
   "cell_type": "markdown",
   "metadata": {},
   "source": [
    "# APMTH 207: Advanced Scientific Computing: \n",
    "## Stochastic Methods for Data Analysis, Inference and Optimization\n",
    "## Homework #3\n",
    "**Harvard University**<br>\n",
    "**Spring 2017**<br>\n",
    "**Instructors: Rahul Dave**<br>\n",
    "**Due Date: ** Thursday, Febrary 16th, 2017 at 11:59pm\n",
    "\n",
    "**Instructions:**\n",
    "\n",
    "- Upload your final answers as well as your iPython notebook containing all work to Canvas.\n",
    "\n",
    "- Structure your notebook and your work to maximize readability."
   ]
  },
  {
   "cell_type": "markdown",
   "metadata": {},
   "source": [
    "## Problem 1: Optimization via Descent\n",
    "\n",
    "Suppose you are building a pricing model for laying down telecom cables over a geographical region. Your model takes as input a pair of  coordinates, $(x, y)$, and contains two parameters, $\\lambda_1, \\lambda_2$. Given a coordinate, $(x, y)$, and model parameters, the loss in revenue corresponding to the price model at location $(x, y)$ is described by\n",
    "$$\n",
    "L(x, y, \\lambda_1, \\lambda_2) = 0.000045\\lambda_2^2 y - 0.000098\\lambda_1^2 x - 0.0005\\lambda_1 x\\exp\\left\\{\\left(y^2 - x^2\\right)\\left(\\lambda_1^2 + \\lambda_2^2\\right)\\right\\}\n",
    "$$\n",
    "Read the data contained in `HW3_data.csv`. This is a set of coordinates configured on the curve $y^2 - x^2 = -0.1$. Given the data, find parameters $\\lambda_1, \\lambda_2$ that minimize the net loss over the entire dataset.\n",
    "\n",
    "### Part A\n",
    "- Visually verify that for $\\lambda_1 = 2.05384, \\lambda_2 = 0$, the loss function $L$ is minimized for the given data.\n",
    "- Implement gradient descent for minimizing $L$ for the given data, using the learning rate of 0.001.\n",
    "- Implement stochastic gradient descent for minimizing $L$ for the given data, using the learning rate of 0.001.\n",
    "\n",
    "### Part B\n",
    "- Compare the update time of the two implementations. Briefly explain whether your observations are what you expected.\n",
    "- Compare the number of iterations it takes for each algorithm to obtain an estimate accurate to `1e-3`. Briefly explain whether your observations are what you expected."
   ]
  },
  {
   "cell_type": "markdown",
   "metadata": {},
   "source": [
    "## Problem 2: More Varieties of Descent\n",
    "\n",
    "The following refers to the same problem set up in Problem 1.\n",
    "\n",
    "### Part A\n",
    "Compare the performance of stochastic gradient descent for the following learning rates: 1, 0.1, 0.001, 0.0001. Based on your observations, describe the effect of the choice of learning rate on the performance of the algorithm.\n",
    "\n",
    "### Part B\n",
    "Implement mini-batch gradient descent (for a three significantly different batch sizes). Compare the performance of mini-batch gradient descent for the following learning rates: 1, 0.1, 0.001, 0.0001. Based on your observations, compare the effect of learning rates on stochastic gradient descent and on mini-batch gradient descent."
   ]
  },
  {
   "cell_type": "code",
   "execution_count": 357,
   "metadata": {
    "collapsed": false
   },
   "outputs": [],
   "source": [
    "import numpy as np\n",
    "import pandas as pd\n",
    "%matplotlib inline\n",
    "import numpy as np\n",
    "\n",
    "import matplotlib.pyplot as plt\n",
    "import matplotlib.animation as animation\n",
    "from scipy import stats \n",
    "\n",
    "x, y = np.genfromtxt('HW3_data.csv', delimiter=',')"
   ]
  },
  {
   "cell_type": "code",
   "execution_count": 358,
   "metadata": {
    "collapsed": false
   },
   "outputs": [
    {
     "name": "stdout",
     "output_type": "stream",
     "text": [
      "-9.9341040253\n"
     ]
    }
   ],
   "source": [
    "x_sum = x.sum()\n",
    "y_sum = y.sum()\n",
    "n = len(x)\n",
    "\n",
    "L = lambda l1, l2, x, y: 0.000045 * l2**2 * y.sum() - 0.000098 * l1**2 * x.sum() + 0.003926 * x.sum() * l1 * np.exp(-0.1 * (l1**2 + l2**2))\n",
    "print L(2.05384, 0, x, y)"
   ]
  },
  {
   "cell_type": "code",
   "execution_count": 359,
   "metadata": {
    "collapsed": false
   },
   "outputs": [
    {
     "name": "stdout",
     "output_type": "stream",
     "text": [
      "-0.00392583882549\n",
      "4.5058875158e-05\n",
      "-9.81459706374e-05\n"
     ]
    }
   ],
   "source": [
    "print 8. / x.sum()\n",
    "print 0.2/ y_sum\n",
    "print 0.2/ x_sum"
   ]
  },
  {
   "cell_type": "code",
   "execution_count": 360,
   "metadata": {
    "collapsed": false
   },
   "outputs": [
    {
     "name": "stdout",
     "output_type": "stream",
     "text": [
      "0.199738674533\n",
      "-0.1997025438\n",
      "-8.00032843835\n"
     ]
    }
   ],
   "source": [
    "print 0.000045 * y_sum\n",
    "print 0.000098 * x_sum\n",
    "print 0.003926 * x_sum"
   ]
  },
  {
   "cell_type": "code",
   "execution_count": 386,
   "metadata": {
    "collapsed": false
   },
   "outputs": [],
   "source": [
    "grad = lambda l1, l2, x, y: np.array([-0.000098 * 2 * l1 * x.sum() + 0.003926 *  x.sum() * np.exp(-0.1 * (l1**2 + l2**2)) - 0.003926 * 2 * 0.1 *  x.sum() * l1**2 * np.exp(-0.1 * (l1**2 + l2**2)), 2 * 0.000045 * l2 * y.sum() - 0.1 * 2* 0.003926 *  x.sum() * l1 * l2 * np.exp(-0.1 * (l1**2 + l2**2))])\n",
    "\n",
    "def gradient_descent(x, y, theta_init, step=0.01, maxsteps=0, precision=0.001):\n",
    "    costs = []\n",
    "    m = y.size # number of data points\n",
    "    theta = theta_init\n",
    "    history = [] # to store all thetas\n",
    "   \n",
    "    counter = 0\n",
    "    oldcost = 0\n",
    "\n",
    "    currentcost = L(theta[0], theta[1], x, y)\n",
    "\n",
    "    costs.append(currentcost)\n",
    "    history.append(np.array([0, 0]))\n",
    "    history.append(theta)\n",
    "    \n",
    "    counter+=1\n",
    "    while np.linalg.norm(history[-1] - np.array([2.05384, 0])) > precision:\n",
    "        oldcost=currentcost\n",
    "        gradient = grad(theta[0], theta[1], x, y)\n",
    "        theta = theta - step * gradient  # update\n",
    "        history.append(theta)\n",
    "        \n",
    "        currentcost = L(theta[0], theta[1], x, y)\n",
    "        costs.append(currentcost)\n",
    "        counter+=1\n",
    "        if maxsteps:\n",
    "            if counter == maxsteps:\n",
    "                break\n",
    "        \n",
    "    return history, costs, counter"
   ]
  },
  {
   "cell_type": "code",
   "execution_count": 387,
   "metadata": {
    "collapsed": false
   },
   "outputs": [
    {
     "name": "stdout",
     "output_type": "stream",
     "text": [
      "Gradient Descent: 2.05, 0.00 970\n",
      "-9.93410279162\n"
     ]
    },
    {
     "data": {
      "image/png": "[encoded data removed]",
      "text/plain": [
       "<matplotlib.figure.Figure at 0x119b628d0>"
      ]
     },
     "metadata": {},
     "output_type": "display_data"
    }
   ],
   "source": [
    "#theta_i = [-15, 40] + np.random.rand(2)\n",
    "#theta_i = [-5, 2]\n",
    "#theta_i = [15, 16]\n",
    "theta_i = [-10, 12]\n",
    "history, cost, iters = gradient_descent(x, y, theta_i, maxsteps=64001)\n",
    "theta = history[-1]\n",
    "\n",
    "print(\"Gradient Descent: {:.2f}, {:.2f} {:d}\".format(theta[0], theta[1], iters))\n",
    "print cost[-1]\n",
    "\n",
    "plt.plot(range(len(cost)), cost);"
   ]
  },
  {
   "cell_type": "code",
   "execution_count": 392,
   "metadata": {
    "collapsed": false
   },
   "outputs": [],
   "source": [
    "grad = lambda l1, l2, x, y: np.array([-0.000098 * 2 * l1 * x.sum() + 0.003926 *  x.sum() * np.exp(-0.1 * (l1**2 + l2**2)) - 0.003926 * 2 * 0.1 *  x.sum() * l1**2 * np.exp(-0.1 * (l1**2 + l2**2)), 2 * 0.000045 * l2 * y.sum() - 0.1 * 2* 0.003926 *  x.sum() * l1 * l2 * np.exp(-0.1 * (l1**2 + l2**2))])\n",
    "\n",
    "def sgd(x, y, theta_init, step=100, maxsteps=0, precision=0.000001):\n",
    "    costs = []\n",
    "    m = len(x) # number of data points\n",
    "    oldtheta = []\n",
    "    theta = theta_init\n",
    "    history = [] # to store all thetas\n",
    "    grads=[]\n",
    "    counter = 0\n",
    "    oldcost = 0\n",
    "    epoch = 0\n",
    "    i = 0 #index\n",
    "\n",
    "    gradient = grad(theta[0], theta[1], x[i], y[i])\n",
    "    \n",
    "    grads.append(gradient)\n",
    "\n",
    "    currentcost = L(theta[0], theta[1], x, y)\n",
    "    \n",
    "    counter+=1\n",
    "\n",
    "    costsum = currentcost\n",
    "    \n",
    "    costs.append(currentcost)\n",
    "    \n",
    "    history.append(theta)\n",
    "    print(\"start\", counter, costs, oldcost)\n",
    "    \n",
    "    \n",
    "    #while abs(currentcost - oldcost) > precision:\n",
    "    while epoch < 4:\n",
    "    #while np.linalg.norm(theta - oldtheta) > precision:\n",
    "        #print(\"hi\", precision)\n",
    "        #oldcost=currentcost\n",
    "        gradient = grad(theta[0], theta[1], x[i], y[i])\n",
    "        grads.append(gradient)\n",
    "        oldtheta = theta[:]\n",
    "        #step = min(1/2. * np.linalg.norm(np.array(gradient)), 1)\n",
    "        #print step\n",
    "        theta = theta - step * gradient  # update\n",
    "        #print gradient, theta, oldtheta\n",
    "        history.append(theta)\n",
    "        i += 1\n",
    "        if i > m - 1:#reached one past the end.\n",
    "            #break\n",
    "            epoch +=1\n",
    "            print epoch\n",
    "            neworder = np.random.permutation(m)\n",
    "            x = x[neworder]\n",
    "            y = y[neworder]\n",
    "            i = 0\n",
    "\n",
    "        oldcost = currentcost\n",
    "        currentcost =  L(theta[0], theta[1], x, y)\n",
    "        costs.append(currentcost)\n",
    "\n",
    "        if maxsteps:\n",
    "            if counter == maxsteps:\n",
    "                break\n",
    "        \n",
    "    \n",
    "    return history, costs, grads, counter, epoch"
   ]
  },
  {
   "cell_type": "code",
   "execution_count": 394,
   "metadata": {
    "collapsed": false
   },
   "outputs": [
    {
     "name": "stdout",
     "output_type": "stream",
     "text": [
      "('start', 1, [48.732623514742059], 0)\n",
      "1\n",
      "2\n",
      "3\n",
      "4\n",
      "64001 47.1791590633\n",
      "16.758558541\n"
     ]
    },
    {
     "data": {
      "text/plain": [
       "[<matplotlib.lines.Line2D at 0x120241550>]"
      ]
     },
     "execution_count": 394,
     "metadata": {},
     "output_type": "execute_result"
    },
    {
     "data": {
      "image/png": "[encoded data removed]",
      "text/plain": [
       "<matplotlib.figure.Figure at 0x120b68b50>"
      ]
     },
     "metadata": {},
     "output_type": "display_data"
    }
   ],
   "source": [
    "#[4, 2]\n",
    "#theta_i = [1.5, 0.9] \n",
    "#theta_i = [4, 2]\n",
    "theta_i = [-10, 12]\n",
    "history, costs, grads, counter, epoch = sgd(x, y, theta_i, step=0.01, maxsteps=5000)\n",
    "print len(costs), costs[-1]\n",
    "print np.linalg.norm(history[-1] - np.array([2.05384, 0]))\n",
    "plt.plot(range(len(costs[-100:])), costs[-100:])\n",
    "#plt.ylim(-10, -9)"
   ]
  },
  {
   "cell_type": "code",
   "execution_count": null,
   "metadata": {
    "collapsed": true
   },
   "outputs": [],
   "source": []
  },
  {
   "cell_type": "code",
   "execution_count": null,
   "metadata": {
    "collapsed": true
   },
   "outputs": [],
   "source": []
  }
 ],
 "metadata": {
  "anaconda-cloud": {},
  "kernelspec": {
   "display_name": "Python [conda root]",
   "language": "python",
   "name": "conda-root-py"
  },
  "language_info": {
   "codemirror_mode": {
    "name": "ipython",
    "version": 2
   },
   "file_extension": ".py",
   "mimetype": "text/x-python",
   "name": "python",
   "nbconvert_exporter": "python",
   "pygments_lexer": "ipython2",
   "version": "2.7.12"
  }
 },
 "nbformat": 4,
 "nbformat_minor": 1
}
