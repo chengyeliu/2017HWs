{
 "cells": [
  {
   "cell_type": "markdown",
   "metadata": {},
   "source": [
    "# Mixture Models\n",
    "\n",
    "In this problem we will look at different ways to detect natural \"groupings\" or \"clusters\" in data. \n",
    "\n",
    "You are given the biometric data (along with maternal stas) for approximately 1,000 new borns in California between the years 2000 and 2001. The data has already been split into training and testing. Previous studies have indicated that new born bimetric data \"naturally\" clusters into two groups, full term and preterm births (preterm here means a gestational age of less than 37 weeks). Your task is to investigate whether or not this assertion holds for the dataset at hand. That is, our hypothesis for this problem is:\n",
    "\n",
    "> New born bimetric data \"naturally\" clusters into exactly two groups. One group will encompase the full term births and the other will encompase the preterm births.\n",
    "\n",
    "One way to investigate \"natural\" clustering in data is to perform an unsupervised clustering algorithm. Then examine the clusters obtained. If one cluster contains, largely, full term data points and the other preterm data points, then we might interpret this as support for our hypothesis. Another way to asses our data segmentation is to classify new data as full term or preterm by comparing new data to our clusters.\n",
    "\n",
    "The number of features for this dataset is small so you are welcome to use visualization for exploration and sanity check (both are highly recommended but not required). \n",
    "\n",
    "***Grading Notes:*** \n",
    "\n",
    "You can keep your analysis short and to the point (of course without sacrificing correctness). \n",
    "\n",
    "Inspection of the traceplots and autocorrelation plots are sufficient for diagnosing convergence in your samplers.\n",
    "\n",
    "\n",
    "### Part A: K-Means\n",
    "K-Means is a fast and simple unsupervised clustering algorithm that produces a hard clustering of the data, each data point is assigned a cluster. Fit a K-Means model from `sklearn` on your training data ([see example code half-way down this page](http://scikit-learn.org/stable/modules/generated/sklearn.cluster.KMeans.html)). Investigate the cluster memebership in order to label one cluster \"full term\" and the other \"preterm\". Use your model to assign each data point to a cluster and classify the data point as \"full term\" or \"preterm\", based on the label of its assigned cluster. Compute the classification error on the training set and on the test set. \n",
    "\n",
    "Do your findings support our hypothesis?\n",
    "\n",
    "### Part B: Mixture Model and MLE\n",
    "While fast, clustering by K-Means has many drawbacks. A natural generalization of K-means clustering is model-based clustering, in particular, clustering based on Gaussian mixture models (K-Means can be interpreted to be a particular form of mixture of Gaussians). \n",
    "\n",
    "Model our biometric data as a mixture of two Gaussian components. Use Expectation Maximization, initialized with K-Means estimates of component means and covariance, to compute the MLE of the model parameters (sample code found in [lecture notes](https://am207.github.io/2017/wiki/typesoflearning.html)). \n",
    "\n",
    "Use your MLE parameters to label each component as \"full term\" or \"preterm\". Then assign each data point to a component (by taking the argmax of the responsibilities of the components for each data point), classify the data point as \"full term\" or \"preterm\", based on the label of its assigned component. Compute the classification error on the training set and on the test set. \n",
    "\n",
    "How do your error rates compare with those from K-Means clustering?\n",
    "\n",
    "Do your findings support our hypothesis?\n",
    "\n",
    "\n",
    "### Part C: Bayesian Model and MAP\n",
    "Overfitting is a primary concern with using MLE model parameters, this is particularly problemmatic for Gaussian Mixture Models. One solution is to compute MAP estimates. Consider the following Bayesian model for our mixture of Gaussians:\n",
    "\n",
    "\\begin{align}\n",
    "x_{i} | z_{ik} = 1 &\\sim \\mathcal{N}(\\mu_{k}, \\Sigma_{k}), \\quad i = 1, \\ldots, N\\\\\n",
    "\\mu_{k} &\\sim \\mathcal{N}(m_{k}, M_{k}), \\quad k = 0, 1\\\\\n",
    "\\Sigma_{k} &\\sim \\mathcal{IW}(s_{k}, S_{k}), \\quad k = 0, 1\\\\\n",
    "z_{ik} &\\sim \\mathcal{Ber}(\\pi_{k}), \\quad k = 0, 1\\\\\n",
    "(\\pi_{0}, \\pi_{1}) &\\sim \\mathcal{Dir}(p)\n",
    "\\end{align}\n",
    "where the hyperparameters are $m_{k}, M_{k}, s_{k}, S_{k}, p$ and $x_i$ is the biometrics of the $i$-th birth.\n",
    "\n",
    "Using the MAP estimates (samples code found in [lecture notes](https://am207.github.io/2017/wiki/mixtures_and_mcmc.html)), compute the classification error on the training set and on the test set. \n",
    "\n",
    "How do your error rates compare with those from K-Means clustering?\n",
    "\n",
    "Do your findings support our hypothesis?\n",
    "\n",
    "\n",
    "### Part D: Comparison with A More Complex Model\n",
    "A number of studies show that the stats of the mother has a significant effect on whether or not a birth is premature. In particular, researchers have proposed the following mixture model for birth data,\n",
    "\n",
    "\\begin{align}\n",
    "x_{i} | z_{ik} = 1 &\\sim \\mathcal{N}(\\mu_{k}, \\Sigma_{k}), \\quad i = 1, \\ldots, N\\\\\n",
    "\\mu_{k} &\\sim \\mathcal{N}(m_{k}, M_{k}), \\quad k = 0, 1\\\\\n",
    "\\Sigma_{k} &\\sim \\mathcal{IW}(s_{k}, S_{k}), \\quad k = 0, 1\\\\\n",
    "z_{ik} &\\sim \\mathcal{Ber}(\\pi_{ik}), \\quad k = 0, 1\\\\\n",
    "\\pi_{i1} &= \\sigma(\\beta^T c_{i} + alpha)\\\\\n",
    "\\beta &\\sim \\mathcal{N}(b, B)\\\\\n",
    "\\alpha &\\sim \\mathcal{N}(a, A)\\\\\n",
    "\\end{align}\n",
    "where the hyperparameters are $m_{k}, M_{k}, s_{k}, S_{k}, b, B, a, A$, $x_i$ is the biometrics of the $i$-th birth, $c_i$ is the covariates for the mother of the $i$-th birth, and $\\sigma$ is the sigmoid function.\n",
    "\n",
    "Use posterior mean or posterior mode estimates of $\\beta$ and $\\alpha$ to hypothesize on the effect of maternal age, income and education on the probability of an infant being born premature. \n",
    "\n",
    "Use model comparison criteria (like the WAIC, AIC) to compare your model that factors in maternal stats and your model that does not. Does the result of this comparison support or contradict your hypothesis?\n",
    "\n",
    "### Extra Credit: Appropriateness of the Choice of K\n",
    "\n",
    "Use model comparison criteria to determine the optimal choice of $k$ for our mixture model. Does the optimal value of $k$ you find support our hypothesis \n",
    "\n",
    "> New born bimetric data \"naturally\" clusters into exactly two groups. One group will encompase the full term births and the other will encompase the preterm births.\n",
    "\n",
    "regarding how new born biometric data cluster?"
   ]
  },
  {
   "cell_type": "code",
   "execution_count": 260,
   "metadata": {
    "collapsed": true
   },
   "outputs": [],
   "source": [
    "import numpy as np\n",
    "import scipy as sp\n",
    "from scipy.stats import uniform\n",
    "from scipy.stats import gamma\n",
    "import matplotlib as mpl\n",
    "import matplotlib.cm as cm\n",
    "import matplotlib.pyplot as plt\n",
    "import pandas as pd\n",
    "from mpl_toolkits.mplot3d import Axes3D\n",
    "from sklearn.cluster import KMeans\n",
    "from sklearn.mixture import GaussianMixture\n",
    "from sklearn.mixture import BayesianGaussianMixture\n",
    "import itertools\n",
    "from scipy import linalg"
   ]
  },
  {
   "cell_type": "code",
   "execution_count": 261,
   "metadata": {
    "collapsed": false
   },
   "outputs": [
    {
     "data": {
      "text/html": [
       "<div>\n",
       "<table border=\"1\" class=\"dataframe\">\n",
       "  <thead>\n",
       "    <tr style=\"text-align: right;\">\n",
       "      <th></th>\n",
       "      <th>Unnamed: 0</th>\n",
       "      <th>weight</th>\n",
       "      <th>length</th>\n",
       "      <th>head circumference</th>\n",
       "      <th>gestation age</th>\n",
       "      <th>mothers age</th>\n",
       "      <th>mothers income</th>\n",
       "      <th>mothers years of post-2nd edu</th>\n",
       "    </tr>\n",
       "  </thead>\n",
       "  <tbody>\n",
       "    <tr>\n",
       "      <th>0</th>\n",
       "      <td>0</td>\n",
       "      <td>3.751827</td>\n",
       "      <td>35.958024</td>\n",
       "      <td>23.728551</td>\n",
       "      <td>207.0</td>\n",
       "      <td>23.0</td>\n",
       "      <td>47864.561782</td>\n",
       "      <td>3.0</td>\n",
       "    </tr>\n",
       "    <tr>\n",
       "      <th>1</th>\n",
       "      <td>2</td>\n",
       "      <td>1.523259</td>\n",
       "      <td>36.503762</td>\n",
       "      <td>27.715082</td>\n",
       "      <td>215.0</td>\n",
       "      <td>19.0</td>\n",
       "      <td>48096.864353</td>\n",
       "      <td>3.0</td>\n",
       "    </tr>\n",
       "    <tr>\n",
       "      <th>2</th>\n",
       "      <td>4</td>\n",
       "      <td>2.016884</td>\n",
       "      <td>37.521100</td>\n",
       "      <td>32.446290</td>\n",
       "      <td>203.0</td>\n",
       "      <td>24.0</td>\n",
       "      <td>48140.197884</td>\n",
       "      <td>1.0</td>\n",
       "    </tr>\n",
       "    <tr>\n",
       "      <th>3</th>\n",
       "      <td>6</td>\n",
       "      <td>2.272493</td>\n",
       "      <td>40.656632</td>\n",
       "      <td>26.480958</td>\n",
       "      <td>206.0</td>\n",
       "      <td>24.0</td>\n",
       "      <td>48011.026817</td>\n",
       "      <td>-1.0</td>\n",
       "    </tr>\n",
       "    <tr>\n",
       "      <th>4</th>\n",
       "      <td>7</td>\n",
       "      <td>5.494735</td>\n",
       "      <td>34.060959</td>\n",
       "      <td>29.304013</td>\n",
       "      <td>214.0</td>\n",
       "      <td>22.0</td>\n",
       "      <td>47973.662421</td>\n",
       "      <td>5.0</td>\n",
       "    </tr>\n",
       "  </tbody>\n",
       "</table>\n",
       "</div>"
      ],
      "text/plain": [
       "   Unnamed: 0    weight     length  head circumference  gestation age  \\\n",
       "0           0  3.751827  35.958024           23.728551          207.0   \n",
       "1           2  1.523259  36.503762           27.715082          215.0   \n",
       "2           4  2.016884  37.521100           32.446290          203.0   \n",
       "3           6  2.272493  40.656632           26.480958          206.0   \n",
       "4           7  5.494735  34.060959           29.304013          214.0   \n",
       "\n",
       "   mothers age  mothers income  mothers years of post-2nd edu  \n",
       "0         23.0    47864.561782                            3.0  \n",
       "1         19.0    48096.864353                            3.0  \n",
       "2         24.0    48140.197884                            1.0  \n",
       "3         24.0    48011.026817                           -1.0  \n",
       "4         22.0    47973.662421                            5.0  "
      ]
     },
     "execution_count": 261,
     "metadata": {},
     "output_type": "execute_result"
    }
   ],
   "source": [
    "df_train = pd.read_csv('birth_data_train.csv')\n",
    "df_train.head()"
   ]
  },
  {
   "cell_type": "code",
   "execution_count": 262,
   "metadata": {
    "collapsed": false
   },
   "outputs": [
    {
     "data": {
      "text/plain": [
       "970"
      ]
     },
     "execution_count": 262,
     "metadata": {},
     "output_type": "execute_result"
    }
   ],
   "source": [
    "len(df_train)"
   ]
  },
  {
   "cell_type": "code",
   "execution_count": 263,
   "metadata": {
    "collapsed": false
   },
   "outputs": [
    {
     "data": {
      "text/html": [
       "<div>\n",
       "<table border=\"1\" class=\"dataframe\">\n",
       "  <thead>\n",
       "    <tr style=\"text-align: right;\">\n",
       "      <th></th>\n",
       "      <th>Unnamed: 0</th>\n",
       "      <th>weight</th>\n",
       "      <th>length</th>\n",
       "      <th>head circumference</th>\n",
       "      <th>gestation age</th>\n",
       "      <th>mothers age</th>\n",
       "      <th>mothers income</th>\n",
       "      <th>mothers years of post-2nd edu</th>\n",
       "    </tr>\n",
       "  </thead>\n",
       "  <tbody>\n",
       "    <tr>\n",
       "      <th>0</th>\n",
       "      <td>0</td>\n",
       "      <td>3.751827</td>\n",
       "      <td>35.958024</td>\n",
       "      <td>23.728551</td>\n",
       "      <td>1.0</td>\n",
       "      <td>23.0</td>\n",
       "      <td>47864.561782</td>\n",
       "      <td>3.0</td>\n",
       "    </tr>\n",
       "    <tr>\n",
       "      <th>1</th>\n",
       "      <td>2</td>\n",
       "      <td>1.523259</td>\n",
       "      <td>36.503762</td>\n",
       "      <td>27.715082</td>\n",
       "      <td>1.0</td>\n",
       "      <td>19.0</td>\n",
       "      <td>48096.864353</td>\n",
       "      <td>3.0</td>\n",
       "    </tr>\n",
       "    <tr>\n",
       "      <th>2</th>\n",
       "      <td>4</td>\n",
       "      <td>2.016884</td>\n",
       "      <td>37.521100</td>\n",
       "      <td>32.446290</td>\n",
       "      <td>1.0</td>\n",
       "      <td>24.0</td>\n",
       "      <td>48140.197884</td>\n",
       "      <td>1.0</td>\n",
       "    </tr>\n",
       "    <tr>\n",
       "      <th>3</th>\n",
       "      <td>6</td>\n",
       "      <td>2.272493</td>\n",
       "      <td>40.656632</td>\n",
       "      <td>26.480958</td>\n",
       "      <td>1.0</td>\n",
       "      <td>24.0</td>\n",
       "      <td>48011.026817</td>\n",
       "      <td>-1.0</td>\n",
       "    </tr>\n",
       "    <tr>\n",
       "      <th>4</th>\n",
       "      <td>7</td>\n",
       "      <td>5.494735</td>\n",
       "      <td>34.060959</td>\n",
       "      <td>29.304013</td>\n",
       "      <td>1.0</td>\n",
       "      <td>22.0</td>\n",
       "      <td>47973.662421</td>\n",
       "      <td>5.0</td>\n",
       "    </tr>\n",
       "  </tbody>\n",
       "</table>\n",
       "</div>"
      ],
      "text/plain": [
       "   Unnamed: 0    weight     length  head circumference  gestation age  \\\n",
       "0           0  3.751827  35.958024           23.728551            1.0   \n",
       "1           2  1.523259  36.503762           27.715082            1.0   \n",
       "2           4  2.016884  37.521100           32.446290            1.0   \n",
       "3           6  2.272493  40.656632           26.480958            1.0   \n",
       "4           7  5.494735  34.060959           29.304013            1.0   \n",
       "\n",
       "   mothers age  mothers income  mothers years of post-2nd edu  \n",
       "0         23.0    47864.561782                            3.0  \n",
       "1         19.0    48096.864353                            3.0  \n",
       "2         24.0    48140.197884                            1.0  \n",
       "3         24.0    48011.026817                           -1.0  \n",
       "4         22.0    47973.662421                            5.0  "
      ]
     },
     "execution_count": 263,
     "metadata": {},
     "output_type": "execute_result"
    }
   ],
   "source": [
    "prem = lambda x: 0. if x / 7. > 36. else 1.\n",
    "df_train.loc[:, 'gestation age'] = df_train['gestation age'].apply(prem)\n",
    "df_train.head()"
   ]
  },
  {
   "cell_type": "code",
   "execution_count": 264,
   "metadata": {
    "collapsed": false
   },
   "outputs": [
    {
     "data": {
      "text/html": [
       "<div>\n",
       "<table border=\"1\" class=\"dataframe\">\n",
       "  <thead>\n",
       "    <tr style=\"text-align: right;\">\n",
       "      <th></th>\n",
       "      <th>Unnamed: 0</th>\n",
       "      <th>weight</th>\n",
       "      <th>length</th>\n",
       "      <th>head circumference</th>\n",
       "      <th>gestation age</th>\n",
       "      <th>mothers age</th>\n",
       "      <th>mothers income</th>\n",
       "      <th>mothers years of post-2nd edu</th>\n",
       "    </tr>\n",
       "  </thead>\n",
       "  <tbody>\n",
       "    <tr>\n",
       "      <th>0</th>\n",
       "      <td>0</td>\n",
       "      <td>4.842720</td>\n",
       "      <td>41.230969</td>\n",
       "      <td>32.193301</td>\n",
       "      <td>277.0</td>\n",
       "      <td>25.0</td>\n",
       "      <td>49950.847338</td>\n",
       "      <td>5.0</td>\n",
       "    </tr>\n",
       "    <tr>\n",
       "      <th>1</th>\n",
       "      <td>1</td>\n",
       "      <td>3.899403</td>\n",
       "      <td>47.052716</td>\n",
       "      <td>39.204614</td>\n",
       "      <td>274.0</td>\n",
       "      <td>24.0</td>\n",
       "      <td>49958.884156</td>\n",
       "      <td>5.0</td>\n",
       "    </tr>\n",
       "    <tr>\n",
       "      <th>2</th>\n",
       "      <td>2</td>\n",
       "      <td>4.495327</td>\n",
       "      <td>45.058652</td>\n",
       "      <td>41.004610</td>\n",
       "      <td>264.0</td>\n",
       "      <td>24.0</td>\n",
       "      <td>50007.995188</td>\n",
       "      <td>3.0</td>\n",
       "    </tr>\n",
       "    <tr>\n",
       "      <th>3</th>\n",
       "      <td>3</td>\n",
       "      <td>3.734518</td>\n",
       "      <td>46.485906</td>\n",
       "      <td>33.984184</td>\n",
       "      <td>270.0</td>\n",
       "      <td>24.0</td>\n",
       "      <td>49997.773532</td>\n",
       "      <td>7.0</td>\n",
       "    </tr>\n",
       "    <tr>\n",
       "      <th>4</th>\n",
       "      <td>4</td>\n",
       "      <td>3.289297</td>\n",
       "      <td>38.582165</td>\n",
       "      <td>37.999898</td>\n",
       "      <td>269.0</td>\n",
       "      <td>23.0</td>\n",
       "      <td>50073.463900</td>\n",
       "      <td>3.0</td>\n",
       "    </tr>\n",
       "  </tbody>\n",
       "</table>\n",
       "</div>"
      ],
      "text/plain": [
       "   Unnamed: 0    weight     length  head circumference  gestation age  \\\n",
       "0           0  4.842720  41.230969           32.193301          277.0   \n",
       "1           1  3.899403  47.052716           39.204614          274.0   \n",
       "2           2  4.495327  45.058652           41.004610          264.0   \n",
       "3           3  3.734518  46.485906           33.984184          270.0   \n",
       "4           4  3.289297  38.582165           37.999898          269.0   \n",
       "\n",
       "   mothers age  mothers income  mothers years of post-2nd edu  \n",
       "0         25.0    49950.847338                            5.0  \n",
       "1         24.0    49958.884156                            5.0  \n",
       "2         24.0    50007.995188                            3.0  \n",
       "3         24.0    49997.773532                            7.0  \n",
       "4         23.0    50073.463900                            3.0  "
      ]
     },
     "execution_count": 264,
     "metadata": {},
     "output_type": "execute_result"
    }
   ],
   "source": [
    "df_test = pd.read_csv('birth_data_test.csv')\n",
    "df_test.head()"
   ]
  },
  {
   "cell_type": "code",
   "execution_count": 265,
   "metadata": {
    "collapsed": false
   },
   "outputs": [
    {
     "data": {
      "text/plain": [
       "217"
      ]
     },
     "execution_count": 265,
     "metadata": {},
     "output_type": "execute_result"
    }
   ],
   "source": [
    "len(df_test)"
   ]
  },
  {
   "cell_type": "code",
   "execution_count": 266,
   "metadata": {
    "collapsed": false
   },
   "outputs": [
    {
     "data": {
      "text/html": [
       "<div>\n",
       "<table border=\"1\" class=\"dataframe\">\n",
       "  <thead>\n",
       "    <tr style=\"text-align: right;\">\n",
       "      <th></th>\n",
       "      <th>Unnamed: 0</th>\n",
       "      <th>weight</th>\n",
       "      <th>length</th>\n",
       "      <th>head circumference</th>\n",
       "      <th>gestation age</th>\n",
       "      <th>mothers age</th>\n",
       "      <th>mothers income</th>\n",
       "      <th>mothers years of post-2nd edu</th>\n",
       "    </tr>\n",
       "  </thead>\n",
       "  <tbody>\n",
       "    <tr>\n",
       "      <th>0</th>\n",
       "      <td>0</td>\n",
       "      <td>4.842720</td>\n",
       "      <td>41.230969</td>\n",
       "      <td>32.193301</td>\n",
       "      <td>0.0</td>\n",
       "      <td>25.0</td>\n",
       "      <td>49950.847338</td>\n",
       "      <td>5.0</td>\n",
       "    </tr>\n",
       "    <tr>\n",
       "      <th>1</th>\n",
       "      <td>1</td>\n",
       "      <td>3.899403</td>\n",
       "      <td>47.052716</td>\n",
       "      <td>39.204614</td>\n",
       "      <td>0.0</td>\n",
       "      <td>24.0</td>\n",
       "      <td>49958.884156</td>\n",
       "      <td>5.0</td>\n",
       "    </tr>\n",
       "    <tr>\n",
       "      <th>2</th>\n",
       "      <td>2</td>\n",
       "      <td>4.495327</td>\n",
       "      <td>45.058652</td>\n",
       "      <td>41.004610</td>\n",
       "      <td>0.0</td>\n",
       "      <td>24.0</td>\n",
       "      <td>50007.995188</td>\n",
       "      <td>3.0</td>\n",
       "    </tr>\n",
       "    <tr>\n",
       "      <th>3</th>\n",
       "      <td>3</td>\n",
       "      <td>3.734518</td>\n",
       "      <td>46.485906</td>\n",
       "      <td>33.984184</td>\n",
       "      <td>0.0</td>\n",
       "      <td>24.0</td>\n",
       "      <td>49997.773532</td>\n",
       "      <td>7.0</td>\n",
       "    </tr>\n",
       "    <tr>\n",
       "      <th>4</th>\n",
       "      <td>4</td>\n",
       "      <td>3.289297</td>\n",
       "      <td>38.582165</td>\n",
       "      <td>37.999898</td>\n",
       "      <td>0.0</td>\n",
       "      <td>23.0</td>\n",
       "      <td>50073.463900</td>\n",
       "      <td>3.0</td>\n",
       "    </tr>\n",
       "  </tbody>\n",
       "</table>\n",
       "</div>"
      ],
      "text/plain": [
       "   Unnamed: 0    weight     length  head circumference  gestation age  \\\n",
       "0           0  4.842720  41.230969           32.193301            0.0   \n",
       "1           1  3.899403  47.052716           39.204614            0.0   \n",
       "2           2  4.495327  45.058652           41.004610            0.0   \n",
       "3           3  3.734518  46.485906           33.984184            0.0   \n",
       "4           4  3.289297  38.582165           37.999898            0.0   \n",
       "\n",
       "   mothers age  mothers income  mothers years of post-2nd edu  \n",
       "0         25.0    49950.847338                            5.0  \n",
       "1         24.0    49958.884156                            5.0  \n",
       "2         24.0    50007.995188                            3.0  \n",
       "3         24.0    49997.773532                            7.0  \n",
       "4         23.0    50073.463900                            3.0  "
      ]
     },
     "execution_count": 266,
     "metadata": {},
     "output_type": "execute_result"
    }
   ],
   "source": [
    "df_test.loc[:, 'gestation age'] = df_test['gestation age'].apply(prem)\n",
    "df_test.head()"
   ]
  },
  {
   "cell_type": "code",
   "execution_count": 267,
   "metadata": {
    "collapsed": false
   },
   "outputs": [
    {
     "data": {
      "image/png": "[encoded data removed]",
      "text/plain": [
       "<matplotlib.figure.Figure at 0x113c99990>"
      ]
     },
     "metadata": {},
     "output_type": "display_data"
    }
   ],
   "source": [
    "prem_df = df_train[df_train['gestation age'] == 1]\n",
    "reg_df = df_train[df_train['gestation age'] == 0]\n",
    "\n",
    "fig = plt.figure()\n",
    "ax = fig.add_subplot(111, projection='3d')\n",
    "ax.scatter(prem_df['weight'].values, prem_df['length'].values, prem_df['head circumference'].values, color='b', alpha=0.1)\n",
    "ax.scatter(reg_df['weight'].values, reg_df['length'].values, reg_df['head circumference'].values, color='r', alpha=0.1)\n",
    "plt.show()"
   ]
  },
  {
   "cell_type": "code",
   "execution_count": 268,
   "metadata": {
    "collapsed": false
   },
   "outputs": [
    {
     "name": "stdout",
     "output_type": "stream",
     "text": [
      "error rate train:  0.29587628866\n"
     ]
    }
   ],
   "source": [
    "train_x = df_train[['weight', 'length', 'head circumference']].values\n",
    "train_y = df_train['gestation age'].values\n",
    "\n",
    "test_x = df_test[['weight', 'length', 'head circumference']].values\n",
    "test_y = df_test['gestation age'].values\n",
    "\n",
    "kmeans = KMeans(n_clusters=2, random_state=0).fit(train_x)\n",
    "diff = ((kmeans.labels_) - train_y)\n",
    "print 'error rate train: ', len(diff[diff != 0]) * 1./ len(df_train)"
   ]
  },
  {
   "cell_type": "code",
   "execution_count": 269,
   "metadata": {
    "collapsed": false
   },
   "outputs": [
    {
     "name": "stdout",
     "output_type": "stream",
     "text": [
      "purity:  0.202777777778\n",
      "purity:  1.0\n"
     ]
    }
   ],
   "source": [
    "diff_array = np.vstack((kmeans.labels_, train_y))\n",
    "\n",
    "df_diff = pd.DataFrame(diff_array.T, columns=['pred', 'real'])\n",
    "\n",
    "ones = df_diff[df_diff['pred'] == 1.]\n",
    "print 'purity: ', len(ones[ones['real'] == 1.]) * 1. / len(ones)\n",
    "\n",
    "zeros = df_diff[df_diff['pred'] == 0.]\n",
    "print 'purity: ', len(zeros[zeros['real'] == 0.]) * 1. / len(zeros)"
   ]
  },
  {
   "cell_type": "code",
   "execution_count": 270,
   "metadata": {
    "collapsed": false
   },
   "outputs": [
    {
     "name": "stdout",
     "output_type": "stream",
     "text": [
      "error rate test:  0.350230414747\n"
     ]
    }
   ],
   "source": [
    "diff = (( kmeans.predict(test_x)) - test_y)\n",
    "print 'error rate test: ', len(diff[diff != 0]) * 1./ len(df_test)"
   ]
  },
  {
   "cell_type": "code",
   "execution_count": 271,
   "metadata": {
    "collapsed": false
   },
   "outputs": [
    {
     "name": "stdout",
     "output_type": "stream",
     "text": [
      "error rate:  0.156701030928\n"
     ]
    }
   ],
   "source": [
    "gmm = GaussianMixture(n_components=2, covariance_type='full').fit(train_x)\n",
    "diff = train_y - (gmm.predict(train_x))\n",
    "print 'error rate: ', len(diff[diff != 0]) * 1. / len(df_train)"
   ]
  },
  {
   "cell_type": "code",
   "execution_count": 272,
   "metadata": {
    "collapsed": false
   },
   "outputs": [
    {
     "name": "stdout",
     "output_type": "stream",
     "text": [
      "error rate test:  0.225806451613\n"
     ]
    }
   ],
   "source": [
    "diff = test_y - (gmm.predict(test_x))\n",
    "print 'error rate test: ', len(diff[diff != 0]) * 1. / len(df_test)"
   ]
  },
  {
   "cell_type": "code",
   "execution_count": 275,
   "metadata": {
    "collapsed": false
   },
   "outputs": [
    {
     "name": "stdout",
     "output_type": "stream",
     "text": [
      "error rate train:  0.0917525773196\n"
     ]
    }
   ],
   "source": [
    "bayes_gmm = BayesianGaussianMixture(weight_concentration_prior_type=\"dirichlet_process\",\n",
    "                                    n_components=2, reg_covar=0, init_params='kmeans',\n",
    "                                    max_iter=1500, mean_precision_prior=.8).fit(train_x)\n",
    "\n",
    "diff = train_y - (bayes_gmm.predict(train_x))\n",
    "print 'error rate train: ', len(diff[diff != 0]) * 1. / len(df_train)"
   ]
  },
  {
   "cell_type": "code",
   "execution_count": 276,
   "metadata": {
    "collapsed": false
   },
   "outputs": [
    {
     "name": "stdout",
     "output_type": "stream",
     "text": [
      "error rate test:  0.0552995391705\n"
     ]
    }
   ],
   "source": [
    "diff = test_y - (bayes_gmm.predict(test_x))\n",
    "print 'error rate test: ', len(diff[diff != 0]) * 1. / len(df_test)"
   ]
  }
 ],
 "metadata": {
  "anaconda-cloud": {},
  "kernelspec": {
   "display_name": "Python [conda root]",
   "language": "python",
   "name": "conda-root-py"
  },
  "language_info": {
   "codemirror_mode": {
    "name": "ipython",
    "version": 2
   },
   "file_extension": ".py",
   "mimetype": "text/x-python",
   "name": "python",
   "nbconvert_exporter": "python",
   "pygments_lexer": "ipython2",
   "version": "2.7.12"
  }
 },
 "nbformat": 4,
 "nbformat_minor": 1
}
