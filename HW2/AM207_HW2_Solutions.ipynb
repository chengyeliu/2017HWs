{
 "cells": [
  {
   "cell_type": "markdown",
   "metadata": {},
   "source": [
    "# APMTH 207: Advanced Scientific Computing: \n",
    "## Stochastic Methods for Data Analysis, Inference and Optimization\n",
    "## Homework #2\n",
    "**Harvard University**<br>\n",
    "**Spring 2017**<br>\n",
    "**Instructors: Rahul Dave**<br>\n",
    "**Due Date: ** Thursday, Febrary 9th, 2017 at 11:59pm\n",
    "\n",
    "**Instructions:**\n",
    "\n",
    "- Upload your final answers as well as your iPython notebook containing all work to Canvas.\n",
    "\n",
    "- Structure your notebook and your work to maximize readability."
   ]
  },
  {
   "cell_type": "code",
   "execution_count": 26,
   "metadata": {
    "collapsed": true
   },
   "outputs": [],
   "source": [
    "import numpy as np\n",
    "from scipy.stats import norm\n",
    "import matplotlib\n",
    "import matplotlib.pyplot as plt\n",
    "import matplotlib.mlab as mlab\n",
    "from mpl_toolkits.mplot3d import Axes3D\n",
    "from matplotlib import cm\n",
    "%matplotlib inline\n",
    "from functools import partial"
   ]
  },
  {
   "cell_type": "markdown",
   "metadata": {},
   "source": [
    "## Problem 1: Monte Carlo Integration\n",
    "\n",
    "Let $X$ be a random variable with distribution described by the following pdf:\n",
    "$$\n",
    "f_X(x) = \\begin{cases}\n",
    "\\frac{1}{12}(x-1), &1\\leq x\\leq 3\\\\\n",
    "-\\frac{1}{12}(x-5), &3< x\\leq 5\\\\\n",
    "\\frac{1}{6}(x-5), &5< x\\leq 7\\\\\n",
    "-\\frac{1}{6}(x-9), &7< x\\leq 9\\\\\n",
    "0, &otherwise\n",
    "\\end{cases}\n",
    "$$\n",
    "Let $h$ be the following function of $X$:\n",
    "$$\n",
    "h(X) = \\frac{1}{3\\sqrt{2}\\pi}\\mathrm{exp}\\left\\{ -\\frac{1}{18}\\left( X - 5\\right)^2\\right\\}\n",
    "$$\n",
    "\n",
    "Compute $\\mathbb{E}[h(X)]$ via Monte Carlo simulation using the following sampling methods:\n",
    "- inverse transform sampling\n",
    "- rejection sampling with both uniform proposal distribution and normal proposal distribution (with appropriately chosen parameters)\n",
    "- importance sampling with both uniform proposal distribution and normal proposal distribution (with appropriately chosen parameters)\n",
    "\n",
    "**Solutions (just for validation, not for release to students): **\n",
    "The CDF:\n",
    "$$\n",
    "F_X(x) = \\begin{cases}\n",
    "\\frac{1}{12}(x^2/2-x) + \\frac{1}{24}, &1\\leq x\\leq 3\\\\\n",
    "-\\frac{1}{12}(x^2/2-5x) - \\frac{7}{8} + \\frac{1}{6}, &3< x\\leq 5\\\\\n",
    "\\frac{1}{6}(x^2/2-5x) + \\frac{25}{12} + \\frac{1}{3}, &5< x\\leq 7\\\\\n",
    "-\\frac{1}{6}(x^2/2 - 9x) + \\frac{1}{3} + \\frac{1}{6}, &7< x\\leq 9\\\\\n",
    "0, &otherwise\n",
    "\\end{cases}\n",
    "$$\n",
    "\n",
    "So...\n",
    "$$\n",
    "F^{-1}_X(y) = \\begin{cases}\n",
    "[quadratic formula], &0\\leq y\\leq \\frac{1}{6}\\\\\n",
    "[quadratic formula], &\\frac{1}{6}< y\\leq \\frac{1}{3}\\\\\n",
    "[quadratic formula], &\\frac{1}{3}< y\\leq \\frac{2}{3}\\\\\n",
    "[quadratic formula], &\\frac{2}{3}< y\\leq 1\\\\\n",
    "0, &otherwise\n",
    "\\end{cases}\n",
    "$$"
   ]
  },
  {
   "cell_type": "code",
   "execution_count": 27,
   "metadata": {
    "collapsed": false
   },
   "outputs": [],
   "source": [
    "def f_X(x):\n",
    "    if x >= 1 and x <= 3:\n",
    "        return 1./12 * (x - 1.)\n",
    "    elif x > 3 and x <= 5:\n",
    "        return -1./12 * (x - 5)\n",
    "    elif x > 5 and x <= 7:\n",
    "        return 1./6 * (x - 5)\n",
    "    elif x > 7 and x <= 9:\n",
    "        return -1./6 * (x - 9)\n",
    "    else:\n",
    "        return 0.\n",
    "    \n",
    "def f_X_1(x):\n",
    "    if x >= 1 and x <= 3:\n",
    "        return 1./12 * (x - 1.)\n",
    "    elif x > 3 and x <= 5:\n",
    "        return -1./12 * (x - 5)\n",
    "    else:\n",
    "        return 0.\n",
    "    \n",
    "def f_X_2(x):\n",
    "    if x > 5 and x <= 7:\n",
    "        return 1./6 * (x - 5)\n",
    "    elif x > 7 and x <= 9:\n",
    "        return -1./6 * (x - 9)\n",
    "    else:\n",
    "        return 0.\n",
    "\n",
    "def rejection(n, prop_dist, c, true_dist):\n",
    "    samples = []\n",
    "    for i in range(n):\n",
    "        sample = prop_dist(n=1)\n",
    "        if np.random.uniform(0, c * prop_dist(x=sample)) <= true_dist(sample):\n",
    "            samples.append(sample[0])\n",
    "            \n",
    "    return samples\n",
    "\n",
    "def h(x):\n",
    "    return 1./(3 * 2**.5 * np.pi) * np.exp(-1./18 * (x - 5)**2)\n",
    "\n",
    "def normal_dist(mu, sigma, x=None, n=None):\n",
    "    if x is not None:\n",
    "        return norm.pdf(x, mu, sigma)\n",
    "    elif n is not None:\n",
    "        return np.random.normal(mu, sigma, n)\n",
    "    else:\n",
    "        return None"
   ]
  },
  {
   "cell_type": "code",
   "execution_count": 29,
   "metadata": {
    "collapsed": false
   },
   "outputs": [
    {
     "name": "stdout",
     "output_type": "stream",
     "text": [
      "99 out of 1000 samples accepted\n"
     ]
    },
    {
     "data": {
      "image/png": "[encoded data removed]",
      "text/plain": [
       "<matplotlib.figure.Figure at 0x10b4753d0>"
      ]
     },
     "metadata": {},
     "output_type": "display_data"
    }
   ],
   "source": [
    "prop_dist = partial(normal_dist, mu=7, sigma=10)\n",
    "\n",
    "samples = rejection(1000, prop_dist, 10, f_X)\n",
    "print '{} out of {} samples accepted'.format(len(samples), 1000)\n",
    "plt.hist(list(samples), bins=100, normed=1)\n",
    "plt.show()"
   ]
  },
  {
   "cell_type": "code",
   "execution_count": 23,
   "metadata": {
    "collapsed": false
   },
   "outputs": [
    {
     "name": "stdout",
     "output_type": "stream",
     "text": [
      "rejection mean: 0.0589390952337\n",
      "rejection std: 0.000934708673329\n"
     ]
    }
   ],
   "source": [
    "#rejction\n",
    "means = [np.mean(map(h, rejection(1000, prop_dist, 10, f_X))) for i in range(100)]\n",
    "print 'rejection mean: {}'.format(np.mean(means))\n",
    "print 'rejection std: {}'.format(np.std(means))"
   ]
  },
  {
   "cell_type": "code",
   "execution_count": 24,
   "metadata": {
    "collapsed": false
   },
   "outputs": [
    {
     "name": "stdout",
     "output_type": "stream",
     "text": [
      "importance mean: 0.0588182126054\n",
      "importance std: 0.000529272577642\n"
     ]
    }
   ],
   "source": [
    "#importance\n",
    "means = []\n",
    "for i in range(100):\n",
    "    samples = prop_dist(n=1000)\n",
    "    weights = map(f_X, samples) / prop_dist(x=samples)\n",
    "    means.append(np.multiply(map(h, samples), weights).sum() / weights.sum())\n",
    "print 'importance mean: {}'.format(np.mean(means))  \n",
    "print 'importance std: {}'.format(np.std(means))"
   ]
  },
  {
   "cell_type": "code",
   "execution_count": 25,
   "metadata": {
    "collapsed": false
   },
   "outputs": [
    {
     "name": "stdout",
     "output_type": "stream",
     "text": [
      "stratified mean: 0.0600950393072\n",
      "stratified std: 0.000384622116685\n"
     ]
    }
   ],
   "source": [
    "#stratified\n",
    "prop_dist_1 = partial(normal_dist, mu=3, sigma=0.1)\n",
    "prop_dist_2 = partial(normal_dist, mu=7, sigma=0.1)\n",
    "\n",
    "means = []\n",
    "for i in range(100):\n",
    "    means.append(1./3 * np.mean(map(h, rejection(500, prop_dist_1, 5, f_X_1))) + 2./3 * np.mean(map(h, rejection(500, prop_dist_2, 5, f_X_2))))\n",
    "    \n",
    "print 'stratified mean: {}'.format(np.mean(means))\n",
    "print 'stratified std: {}'.format(np.std(means))"
   ]
  },
  {
   "cell_type": "markdown",
   "metadata": {},
   "source": [
    "## Problem 2: Variance Reduction\n",
    "\n",
    "### Part A\n",
    "\n",
    "- Compute the variance of each estimate of $\\mathbb{E}[h(X)]$ obtained in Problem 1. Which sampling methods, proposal distributions resulted in lower variances? Are the results what you expected?\n",
    "\n",
    "- What can be done to further reduce the variance of the estimate of $\\mathbb{E}[h(X)]$ resulting from each sampling method?\n",
    "\n",
    "### Part B\n",
    "\n",
    "- [I want them to try strattified sampling and control variates]"
   ]
  }
 ],
 "metadata": {
  "anaconda-cloud": {},
  "kernelspec": {
   "display_name": "Python [conda root]",
   "language": "python",
   "name": "conda-root-py"
  },
  "language_info": {
   "codemirror_mode": {
    "name": "ipython",
    "version": 2
   },
   "file_extension": ".py",
   "mimetype": "text/x-python",
   "name": "python",
   "nbconvert_exporter": "python",
   "pygments_lexer": "ipython2",
   "version": "2.7.12"
  }
 },
 "nbformat": 4,
 "nbformat_minor": 1
}
