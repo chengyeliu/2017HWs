{
 "cells": [
  {
   "cell_type": "markdown",
   "metadata": {},
   "source": [
    "# APMTH 207: Advanced Scientific Computing: \n",
    "## Stochastic Methods for Data Analysis, Inference and Optimization\n",
    "## Homework #3\n",
    "**Harvard University**<br>\n",
    "**Spring 2017**<br>\n",
    "**Instructors: Rahul Dave**<br>\n",
    "**Due Date: ** Thursday, Febrary 16th, 2017 at 11:59pm\n",
    "\n",
    "**Instructions:**\n",
    "\n",
    "- Upload your final answers as well as your iPython notebook containing all work to Canvas.\n",
    "\n",
    "- Structure your notebook and your work to maximize readability."
   ]
  },
  {
   "cell_type": "markdown",
   "metadata": {},
   "source": [
    "## Problem 1: Optimization via Descent\n",
    "\n",
    "Suppose you are building a pricing model for laying down telecom cables over a geographical region. Your model takes as input a pair of  coordinates, $(x, y)$, and contains two parameters, $\\lambda_1, \\lambda_2$. Given a coordinate, $(x, y)$, and model parameters, the loss in revenue corresponding to the price model at location $(x, y)$ is described by\n",
    "$$\n",
    "L(x, y, \\lambda_1, \\lambda_2) = 0.000045\\lambda_2^2 y - 0.000098\\lambda_1^2 x - 0.0005\\lambda_1 x\\exp\\left\\{\\left(y^2 - x^2\\right)\\left(\\lambda_1^2 + \\lambda_2^2\\right)\\right\\}\n",
    "$$\n",
    "Read the data contained in `HW3_data.csv`. This is a set of coordinates configured on the curve $y^2 - x^2 = -0.1$. Given the data, find parameters $\\lambda_1, \\lambda_2$ that minimize the net loss over the entire dataset."
   ]
  },
  {
   "cell_type": "code",
   "execution_count": 3,
   "metadata": {
    "collapsed": false
   },
   "outputs": [],
   "source": [
    "import numpy as np\n",
    "import pandas as pd\n",
    "%matplotlib inline\n",
    "import numpy as np\n",
    "import time\n",
    "\n",
    "import matplotlib.pyplot as plt\n",
    "import matplotlib.animation as animation\n",
    "from scipy import stats \n",
    "\n",
    "x, y = np.genfromtxt('HW3_data.csv', delimiter=',')"
   ]
  },
  {
   "cell_type": "code",
   "execution_count": 4,
   "metadata": {
    "collapsed": false
   },
   "outputs": [
    {
     "name": "stdout",
     "output_type": "stream",
     "text": [
      "the min total cost -9.9341040253\n"
     ]
    }
   ],
   "source": [
    "x_sum = x.sum()\n",
    "y_sum = y.sum()\n",
    "n = len(x)\n",
    "\n",
    "L = lambda l1, l2, x, y: 0.000045 * l2**2 * y.sum() - 0.000098 * l1**2 * x.sum() + 0.003926 * x.sum() * l1 * np.exp(-0.1 * (l1**2 + l2**2))\n",
    "\n",
    "print 'the min total cost', L(2.05384, 0, x, y)"
   ]
  },
  {
   "cell_type": "markdown",
   "metadata": {},
   "source": [
    "Note min total cose is the \"same\" (up to a constant) as min average cost since our data is fixed!"
   ]
  },
  {
   "cell_type": "code",
   "execution_count": 5,
   "metadata": {
    "collapsed": false
   },
   "outputs": [
    {
     "name": "stdout",
     "output_type": "stream",
     "text": [
      "total cost closed form: 0.199738674533 * l2^2 - (-0.1997025438) * l1^2 + -8.00032843835 * l1 * e^(-0.1(l1^2 + l2^2))\n"
     ]
    }
   ],
   "source": [
    "print 'total cost closed form: {} * l2^2 - ({}) * l1^2 + {} * l1 * e^(-0.1(l1^2 + l2^2))'.format(0.000045 * y_sum, 0.000098 * x_sum, 0.003926 * x_sum)"
   ]
  },
  {
   "cell_type": "markdown",
   "metadata": {},
   "source": [
    "Put this total cost function into Wolfram if needed to get global min and gradient!"
   ]
  },
  {
   "cell_type": "code",
   "execution_count": 6,
   "metadata": {
    "collapsed": true
   },
   "outputs": [],
   "source": [
    "#the gradient!!\n",
    "grad = lambda l1, l2, x, y: np.array([-0.000098 * 2 * l1 * x.sum() + 0.003926 *  x.sum() * np.exp(-0.1 * (l1**2 + l2**2)) - 0.003926 * 2 * 0.1 *  x.sum() * l1**2 * np.exp(-0.1 * (l1**2 + l2**2)), 2 * 0.000045 * l2 * y.sum() - 0.1 * 2* 0.003926 *  x.sum() * l1 * l2 * np.exp(-0.1 * (l1**2 + l2**2))])"
   ]
  },
  {
   "cell_type": "markdown",
   "metadata": {},
   "source": [
    "You can literally copy and paste rahul's lecture code and change the gradient line!!\n",
    "\n",
    "***NOTE: YOU SHOULD DO DESCENT USING MEAN COST FUNCTION SO WE CAN COMPARE WITH SGD LATER!!!!***"
   ]
  },
  {
   "cell_type": "code",
   "execution_count": 7,
   "metadata": {
    "collapsed": false
   },
   "outputs": [],
   "source": [
    "#literally code from Rahul's lecture\n",
    "def gradient_descent(x, y, theta_init, step=0.01, maxsteps=0, precision=0.001):\n",
    "    costs = []\n",
    "    m = y.size # number of data points\n",
    "    theta = theta_init\n",
    "    history = [] # to store all thetas\n",
    "   \n",
    "    counter = 0\n",
    "    oldcost = 0\n",
    "\n",
    "    currentcost = L(theta[0], theta[1], x, y)\n",
    "\n",
    "    costs.append(currentcost)\n",
    "    history.append(np.array([0, 0]))\n",
    "    history.append(theta)\n",
    "    \n",
    "    counter+=1\n",
    "    while np.linalg.norm(history[-1] - np.array([2.05384, 0])) > precision:\n",
    "        oldcost=currentcost\n",
    "        gradient = grad(theta[0], theta[1], x, y)\n",
    "        theta = theta -  step * gradient * 1000./len(x)  #I'M SCALING THE MEAN LOST FUNCTION GRADIENT BY FACTOR OF 1000\n",
    "        history.append(theta)\n",
    "        \n",
    "        currentcost = L(theta[0], theta[1], x, y)\n",
    "        costs.append(currentcost)\n",
    "        counter+=1\n",
    "        if maxsteps:\n",
    "            if counter == maxsteps:\n",
    "                break\n",
    "        \n",
    "    return history, costs, counter"
   ]
  },
  {
   "cell_type": "code",
   "execution_count": 31,
   "metadata": {
    "collapsed": false
   },
   "outputs": [
    {
     "name": "stdout",
     "output_type": "stream",
     "text": [
      "total time:  4.47974300385\n",
      "how many iters:  43590\n",
      "final cost: -9.93410274837\n",
      "precision to actual param: 0.000999951387578\n"
     ]
    },
    {
     "data": {
      "image/png": "[encoded data removed]",
      "text/plain": [
       "<matplotlib.figure.Figure at 0x116178510>"
      ]
     },
     "metadata": {},
     "output_type": "display_data"
    }
   ],
   "source": [
    "#theta_i = [4, 2]\n",
    "#theta_i = [-5, 2]\n",
    "#theta_i = [15, 16]\n",
    "#theta_i = [2, 0.5]\n",
    "theta_i = [3, -1]\n",
    "#theta_i = [-10, 12]\n",
    "start = time.time()\n",
    "history, cost, iters = gradient_descent(x, y, theta_i, maxsteps=100000, step=0.001)\n",
    "print 'total time: ', time.time() - start\n",
    "theta = history[-1]\n",
    "print 'how many iters: ', iters\n",
    "print 'final cost:', cost[-1]\n",
    "print 'precision to actual param:', np.linalg.norm(theta - [2.05384, 0])\n",
    "\n",
    "plt.plot(range(len(cost)), cost);"
   ]
  },
  {
   "cell_type": "markdown",
   "metadata": {},
   "source": [
    "***Yay that worked!!!***\n",
    "\n",
    "Again, literally the code is copy and pasted from Rahul's lecture with like one line changed!!!!"
   ]
  },
  {
   "cell_type": "code",
   "execution_count": 81,
   "metadata": {
    "collapsed": false
   },
   "outputs": [],
   "source": [
    "#RAHUL's CODE FROM LECTURE\n",
    "\n",
    "def sgd(x, y, theta_init, step=0.001, maxsteps=0, precision=0.001):\n",
    "    costs = []\n",
    "    m = len(x) # number of data points\n",
    "    oldtheta = [1000, 1000]\n",
    "    theta = theta_init\n",
    "    history = [] # to store all thetas\n",
    "    grads=[]\n",
    "    counter = 0\n",
    "    oldcost = 0\n",
    "    epoch = 0\n",
    "    i = 0 #index\n",
    "\n",
    "    gradient = grad(theta[0], theta[1], x[i], y[i])\n",
    "    \n",
    "    grads.append(gradient)\n",
    "\n",
    "    currentcost = L(theta[0], theta[1], x, y)\n",
    "    \n",
    "    counter+=1\n",
    "\n",
    "    costsum = currentcost\n",
    "    \n",
    "    costs.append(currentcost)\n",
    "    \n",
    "    history.append(theta)\n",
    "    \n",
    "    \n",
    "    #while abs(currentcost - oldcost) > precision:\n",
    "    while np.linalg.norm(np.array(theta) - np.array([2.05384, 0])) > precision:\n",
    "        #print(\"hi\", precision)\n",
    "        #oldcost=currentcost\n",
    "        gradient = grad(theta[0], theta[1], x[i], y[i])\n",
    "        grads.append(gradient)\n",
    "        oldtheta = theta[:]\n",
    "\n",
    "        theta = theta - step * gradient * 500.  #I'M SCALING THE GRADIENT BY FACTOR OF 1000!!!\n",
    "        \n",
    "        history.append(theta)\n",
    "        i += 1\n",
    "        if i > m - 1:#reached one past the end.\n",
    "            #break\n",
    "            epoch +=1\n",
    "            print epoch\n",
    "            neworder = np.random.permutation(m)\n",
    "            x = x[neworder]\n",
    "            y = y[neworder]\n",
    "            i = 0\n",
    "\n",
    "        oldcost = currentcost\n",
    "        currentcost =  L(theta[0], theta[1], x, y)\n",
    "        costs.append(currentcost)\n",
    "        counter+=1\n",
    "\n",
    "        if maxsteps:\n",
    "            if counter == maxsteps:\n",
    "                break\n",
    "        \n",
    "    \n",
    "    return history, costs, grads, counter, epoch"
   ]
  },
  {
   "cell_type": "code",
   "execution_count": 137,
   "metadata": {
    "collapsed": false
   },
   "outputs": [
    {
     "name": "stdout",
     "output_type": "stream",
     "text": [
      "total time:  0.258879899979\n",
      "how many iters:  3826\n",
      "final total cost:  nan\n",
      "precision to optimal params:  nan\n"
     ]
    },
    {
     "data": {
      "image/png": "[encoded data removed]",
      "text/plain": [
       "<matplotlib.figure.Figure at 0x11d9c1310>"
      ]
     },
     "metadata": {},
     "output_type": "display_data"
    }
   ],
   "source": [
    "#[4, 2]\n",
    "#theta_i = [1.5, 0.9] \n",
    "#theta_i = [4, 2]\n",
    "#theta_i = [2, 0.5]\n",
    "#theta_i = [-10, 12]\n",
    "theta_i = [3, -1]\n",
    "start = time.time()\n",
    "history, costs, grads, counter, epoch = sgd(x, y, theta_i, step=0.01, maxsteps=100000)\n",
    "print 'total time: ', time.time() - start\n",
    "print 'how many iters: ', len(costs)\n",
    "print 'final total cost: ', costs[-1]\n",
    "print 'precision to optimal params: ', np.linalg.norm(history[-1] - np.array([2.05384, 0]))\n",
    "plt.plot(range(len(costs[-100:])), costs[-100:])\n",
    "plt.show()"
   ]
  },
  {
   "cell_type": "markdown",
   "metadata": {
    "collapsed": true
   },
   "source": [
    "***YAY that also worked*** SGD takes more iterations to converge to where you want but each gradient update is faster. NOW TRY DIFFERENT INITIALIZATIONS AND STEPSIZES!!!"
   ]
  },
  {
   "cell_type": "markdown",
   "metadata": {},
   "source": [
    "GD"
   ]
  },
  {
   "cell_type": "code",
   "execution_count": 8,
   "metadata": {
    "collapsed": false
   },
   "outputs": [
    {
     "name": "stdout",
     "output_type": "stream",
     "text": [
      "total time:  10.0451231003\n",
      "how many iters:  100000\n",
      "final cost: 8.16152869937\n",
      "precision to actual param: 7.41708926028\n"
     ]
    },
    {
     "data": {
      "image/png": "[encoded data removed]",
      "text/plain": [
       "<matplotlib.figure.Figure at 0x1043cbc90>"
      ]
     },
     "metadata": {},
     "output_type": "display_data"
    }
   ],
   "source": [
    "theta_i = [-5.36325, 0]\n",
    "\n",
    "start = time.time()\n",
    "history, cost, iters = gradient_descent(x, y, theta_i, step=0.01, maxsteps=100000)\n",
    "print 'total time: ', time.time() - start\n",
    "theta = history[-1]\n",
    "print 'how many iters: ', iters\n",
    "print 'final cost:', cost[-1]\n",
    "print 'precision to actual param:', np.linalg.norm(theta - [2.05384, 0])\n",
    "\n",
    "plt.plot(range(len(cost)), cost);"
   ]
  },
  {
   "cell_type": "code",
   "execution_count": 60,
   "metadata": {
    "collapsed": false
   },
   "outputs": [
    {
     "name": "stdout",
     "output_type": "stream",
     "text": [
      "total time:  10.3520379066\n",
      "how many iters:  100000\n",
      "final cost: 8.16152869937\n",
      "precision to actual param: 7.41708926028\n"
     ]
    },
    {
     "data": {
      "image/png": "[encoded data removed]",
      "text/plain": [
       "<matplotlib.figure.Figure at 0x114f5b190>"
      ]
     },
     "metadata": {},
     "output_type": "display_data"
    }
   ],
   "source": [
    "theta_i = [-5, 0]\n",
    "\n",
    "start = time.time()\n",
    "history, cost, iters = gradient_descent(x, y, theta_i, step=0.1, maxsteps=100000)\n",
    "print 'total time: ', time.time() - start\n",
    "theta = history[-1]\n",
    "print 'how many iters: ', iters\n",
    "print 'final cost:', cost[-1]\n",
    "print 'precision to actual param:', np.linalg.norm(theta - [2.05384, 0])\n",
    "\n",
    "plt.plot(range(len(cost)), cost);"
   ]
  },
  {
   "cell_type": "code",
   "execution_count": 46,
   "metadata": {
    "collapsed": false
   },
   "outputs": [
    {
     "name": "stdout",
     "output_type": "stream",
     "text": [
      "total time:  0.998345851898\n",
      "how many iters:  10000\n",
      "final cost: 8.16152869937\n",
      "precision to actual param: 7.41708926028\n"
     ]
    },
    {
     "data": {
      "image/png": "[encoded data removed]",
      "text/plain": [
       "<matplotlib.figure.Figure at 0x114f13490>"
      ]
     },
     "metadata": {},
     "output_type": "display_data"
    }
   ],
   "source": [
    "theta_i = [-10, 0]\n",
    "\n",
    "start = time.time()\n",
    "history, cost, iters = gradient_descent(x, y, theta_i, step=0.1, maxsteps=10000)\n",
    "print 'total time: ', time.time() - start\n",
    "theta = history[-1]\n",
    "print 'how many iters: ', iters\n",
    "print 'final cost:', cost[-1]\n",
    "print 'precision to actual param:', np.linalg.norm(theta - [2.05384, 0])\n",
    "\n",
    "plt.plot(range(len(cost)), cost);"
   ]
  },
  {
   "cell_type": "code",
   "execution_count": 49,
   "metadata": {
    "collapsed": false
   },
   "outputs": [
    {
     "name": "stdout",
     "output_type": "stream",
     "text": [
      "total time:  1.02074790001\n",
      "how many iters:  10000\n",
      "final cost: 8.16152869937\n",
      "precision to actual param: 7.41708926028\n"
     ]
    },
    {
     "data": {
      "image/png": "[encoded data removed]",
      "text/plain": [
       "<matplotlib.figure.Figure at 0x1156acf10>"
      ]
     },
     "metadata": {},
     "output_type": "display_data"
    }
   ],
   "source": [
    "theta_i = [-3, 0]\n",
    "\n",
    "start = time.time()\n",
    "history, cost, iters = gradient_descent(x, y, theta_i, step=1, maxsteps=10000)\n",
    "print 'total time: ', time.time() - start\n",
    "theta = history[-1]\n",
    "print 'how many iters: ', iters\n",
    "print 'final cost:', cost[-1]\n",
    "print 'precision to actual param:', np.linalg.norm(theta - [2.05384, 0])\n",
    "\n",
    "plt.plot(range(len(cost)), cost);"
   ]
  },
  {
   "cell_type": "code",
   "execution_count": 64,
   "metadata": {
    "collapsed": false
   },
   "outputs": [
    {
     "name": "stdout",
     "output_type": "stream",
     "text": [
      "total time:  0.993627071381\n",
      "how many iters:  10000\n",
      "final cost: 8.16252499684\n",
      "precision to actual param: 7.38316868954\n"
     ]
    },
    {
     "data": {
      "image/png": "[encoded data removed]",
      "text/plain": [
       "<matplotlib.figure.Figure at 0x114f56c50>"
      ]
     },
     "metadata": {},
     "output_type": "display_data"
    }
   ],
   "source": [
    "theta_i = [-2.47865, 0]\n",
    "\n",
    "start = time.time()\n",
    "history, cost, iters = gradient_descent(x, y, theta_i, step=0.01, maxsteps=10000)\n",
    "print 'total time: ', time.time() - start\n",
    "theta = history[-1]\n",
    "print 'how many iters: ', iters\n",
    "print 'final cost:', cost[-1]\n",
    "print 'precision to actual param:', np.linalg.norm(theta - [2.05384, 0])\n",
    "\n",
    "plt.plot(range(len(cost)), cost);"
   ]
  },
  {
   "cell_type": "markdown",
   "metadata": {},
   "source": [
    "SGD"
   ]
  },
  {
   "cell_type": "code",
   "execution_count": 156,
   "metadata": {
    "collapsed": false
   },
   "outputs": [
    {
     "name": "stdout",
     "output_type": "stream",
     "text": [
      "total time:  0.58193397522\n",
      "how many iters:  8134\n",
      "final total cost:  -9.93410324239\n",
      "precision to optimal params:  0.000548080227258\n"
     ]
    },
    {
     "data": {
      "image/png": "[encoded data removed]",
      "text/plain": [
       "<matplotlib.figure.Figure at 0x11b05fc50>"
      ]
     },
     "metadata": {},
     "output_type": "display_data"
    }
   ],
   "source": [
    "theta_i = [-5, 0]\n",
    "start = time.time()\n",
    "history, costs, grads, counter, epoch = sgd(x, y, theta_i, step=0.01, maxsteps=100000)\n",
    "print 'total time: ', time.time() - start\n",
    "print 'how many iters: ', len(costs)\n",
    "print 'final total cost: ', costs[-1]\n",
    "print 'precision to optimal params: ', np.linalg.norm(history[-1] - np.array([2.05384, 0]))\n",
    "plt.plot(range(len(costs[-100:])), costs[-100:])\n",
    "plt.show()"
   ]
  },
  {
   "cell_type": "code",
   "execution_count": 70,
   "metadata": {
    "collapsed": false
   },
   "outputs": [
    {
     "name": "stdout",
     "output_type": "stream",
     "text": [
      "1\n",
      "2\n",
      "3\n",
      "4\n",
      "5\n",
      "6\n",
      "total time:  6.81631302834\n",
      "how many iters:  100000\n",
      "final total cost:  8.16152869937\n",
      "precision to optimal params:  7.41708926028\n"
     ]
    },
    {
     "data": {
      "image/png": "[encoded data removed]",
      "text/plain": [
       "<matplotlib.figure.Figure at 0x11b893590>"
      ]
     },
     "metadata": {},
     "output_type": "display_data"
    }
   ],
   "source": [
    "theta_i = [-10, 0]\n",
    "start = time.time()\n",
    "history, costs, grads, counter, epoch = sgd(x, y, theta_i, step=0.001, maxsteps=100000)\n",
    "print 'total time: ', time.time() - start\n",
    "print 'how many iters: ', len(costs)\n",
    "print 'final total cost: ', costs[-1]\n",
    "print 'precision to optimal params: ', np.linalg.norm(history[-1] - np.array([2.05384, 0]))\n",
    "plt.plot(range(len(costs[-100:])), costs[-100:])\n",
    "plt.show()"
   ]
  },
  {
   "cell_type": "code",
   "execution_count": 72,
   "metadata": {
    "collapsed": false
   },
   "outputs": [
    {
     "name": "stdout",
     "output_type": "stream",
     "text": [
      "1\n",
      "2\n",
      "3\n",
      "4\n",
      "5\n",
      "6\n",
      "total time:  6.69171714783\n",
      "how many iters:  100000\n",
      "final total cost:  8.16152869937\n",
      "precision to optimal params:  7.41708926028\n"
     ]
    },
    {
     "data": {
      "image/png": "[encoded data removed]",
      "text/plain": [
       "<matplotlib.figure.Figure at 0x114fc2d90>"
      ]
     },
     "metadata": {},
     "output_type": "display_data"
    }
   ],
   "source": [
    "theta_i = [-5.36325, 0]\n",
    "\n",
    "start = time.time()\n",
    "history, costs, grads, counter, epoch = sgd(x, y, theta_i, step=0.001, maxsteps=100000)\n",
    "print 'total time: ', time.time() - start\n",
    "print 'how many iters: ', len(costs)\n",
    "print 'final total cost: ', costs[-1]\n",
    "print 'precision to optimal params: ', np.linalg.norm(history[-1] - np.array([2.05384, 0]))\n",
    "plt.plot(range(len(costs[-100:])), costs[-100:])\n",
    "plt.show()"
   ]
  },
  {
   "cell_type": "markdown",
   "metadata": {},
   "source": [
    "SA: LITERALLY RAHULS CODE AGAIN"
   ]
  },
  {
   "cell_type": "code",
   "execution_count": 117,
   "metadata": {
    "collapsed": false
   },
   "outputs": [
    {
     "name": "stdout",
     "output_type": "stream",
     "text": [
      "[-0.93040367  2.98649067]\n"
     ]
    }
   ],
   "source": [
    "import math\n",
    "from functools import partial\n",
    "from scipy.stats import multivariate_normal\n",
    "rv = lambda x: np.random.multivariate_normal(x, [[1, 0], [0, 1]], 1)[0]\n",
    "\n",
    "tf = lambda t: 0.8*t #temperature function\n",
    "itf = lambda length: math.ceil(1.2*length) #iteration function\n",
    "pfxs = lambda s, x: x + s*np.random.normal()\n",
    "\n",
    "pf = partial(pfxs, 0.1)\n",
    "f = lambda l: L(l[0], l[1], x, y)\n",
    "print rv([0.1, 2])\n",
    "\n",
    "def sa(energyfunc, initials, epochs, tempfunc, iterfunc, proposalfunc):\n",
    "    accumulator=[]\n",
    "    best_solution = old_solution = initials['solution']\n",
    "    T=initials['T']\n",
    "    length=initials['length']\n",
    "    best_energy = old_energy = energyfunc(old_solution)\n",
    "    accepted=0\n",
    "    total=0\n",
    "    \n",
    "    for index in range(epochs):\n",
    "        print(\"Epoch\", index)\n",
    "        if index > 0:\n",
    "            T = tempfunc(T)\n",
    "            length=iterfunc(length)\n",
    "        print(\"Temperature\", T, \"Length\", length)\n",
    "\n",
    "        for it in range(int(length)):\n",
    "            total+=1\n",
    "            new_solution = proposalfunc(old_solution)\n",
    "            new_energy = energyfunc(new_solution)\n",
    "            # Use a min here as you could get a \"probability\" > 1\n",
    "            alpha = min(1, np.exp((old_energy - new_energy)/T))\n",
    "            #print old_energy, new_energy, alpha\n",
    "            if ((new_energy < old_energy) or (np.random.uniform() < alpha)):\n",
    "                # Accept proposed solution\n",
    "                accepted+=1\n",
    "                accumulator.append((T, new_solution, new_energy))\n",
    "                if new_energy < best_energy:\n",
    "                    # Replace previous best with this one\n",
    "                    best_energy = new_energy\n",
    "                    best_solution = new_solution\n",
    "                    best_index=total\n",
    "                    best_temp=T\n",
    "                old_energy = new_energy\n",
    "                old_solution = new_solution\n",
    "            else:\n",
    "                # Keep the old stuff\n",
    "                accumulator.append((T, old_solution, old_energy))\n",
    "\n",
    "    \n",
    "    best_meta=dict(index=best_index, temp=best_temp)\n",
    "    print(\"frac accepted\", accepted * 1./total, \"total iterations\", total, 'bmeta', best_meta)\n",
    "    return best_meta, best_solution, best_energy, accumulator"
   ]
  },
  {
   "cell_type": "code",
   "execution_count": 157,
   "metadata": {
    "collapsed": false
   },
   "outputs": [
    {
     "name": "stdout",
     "output_type": "stream",
     "text": [
      "('Epoch', 0)\n",
      "('Temperature', 20, 'Length', 500)\n",
      "('Epoch', 1)\n",
      "('Temperature', 16.0, 'Length', 600.0)\n",
      "('Epoch', 2)\n",
      "('Temperature', 12.8, 'Length', 720.0)\n",
      "('Epoch', 3)\n",
      "('Temperature', 10.240000000000002, 'Length', 864.0)\n",
      "('Epoch', 4)\n",
      "('Temperature', 8.192000000000002, 'Length', 1037.0)\n",
      "('Epoch', 5)\n",
      "('Temperature', 6.553600000000002, 'Length', 1245.0)\n",
      "('Epoch', 6)\n",
      "('Temperature', 5.242880000000002, 'Length', 1494.0)\n",
      "('Epoch', 7)\n",
      "('Temperature', 4.194304000000002, 'Length', 1793.0)\n",
      "('Epoch', 8)\n",
      "('Temperature', 3.3554432000000016, 'Length', 2152.0)\n",
      "('Epoch', 9)\n",
      "('Temperature', 2.6843545600000014, 'Length', 2583.0)\n",
      "('Epoch', 10)\n",
      "('Temperature', 2.147483648000001, 'Length', 3100.0)\n",
      "('Epoch', 11)\n",
      "('Temperature', 1.717986918400001, 'Length', 3720.0)\n",
      "('Epoch', 12)\n",
      "('Temperature', 1.3743895347200008, 'Length', 4464.0)\n",
      "('Epoch', 13)\n",
      "('Temperature', 1.0995116277760006, 'Length', 5357.0)\n",
      "('Epoch', 14)\n",
      "('Temperature', 0.8796093022208006, 'Length', 6429.0)\n",
      "('Epoch', 15)\n",
      "('Temperature', 0.7036874417766406, 'Length', 7715.0)\n",
      "('Epoch', 16)\n",
      "('Temperature', 0.5629499534213125, 'Length', 9258.0)\n",
      "('Epoch', 17)\n",
      "('Temperature', 0.45035996273705003, 'Length', 11110.0)\n",
      "('Epoch', 18)\n",
      "('Temperature', 0.36028797018964004, 'Length', 13332.0)\n",
      "('Epoch', 19)\n",
      "('Temperature', 0.28823037615171204, 'Length', 15999.0)\n",
      "('frac accepted', 0.3074182642930503, 'total iterations', 93472, 'bmeta', {'index': 33614, 'temp': 0.8796093022208006})\n",
      "[ 2.05540929 -0.00339592]\n",
      "-9.93408315008\n"
     ]
    }
   ],
   "source": [
    "inits=dict(solution=np.array([-5, 0]), length=500, T=20)\n",
    "bmeta, bs, be, out = sa(f, inits, 20, tf, itf, rv)\n",
    "print bs\n",
    "print f(bs)"
   ]
  },
  {
   "cell_type": "code",
   "execution_count": 158,
   "metadata": {
    "collapsed": false
   },
   "outputs": [],
   "source": [
    "T_out = [o[2] for o in out if o[0] == 1.0995116277760006]"
   ]
  },
  {
   "cell_type": "code",
   "execution_count": 159,
   "metadata": {
    "collapsed": false
   },
   "outputs": [
    {
     "name": "stdout",
     "output_type": "stream",
     "text": [
      "\n"
     ]
    },
    {
     "data": {
      "text/plain": [
       "[<matplotlib.lines.Line2D at 0x115f4c610>]"
      ]
     },
     "execution_count": 159,
     "metadata": {},
     "output_type": "execute_result"
    },
    {
     "data": {
      "image/png": "[encoded data removed]",
      "text/plain": [
       "<matplotlib.figure.Figure at 0x119c74390>"
      ]
     },
     "metadata": {},
     "output_type": "display_data"
    }
   ],
   "source": [
    "print \n",
    "plt.plot(range(len(T_out)), T_out)"
   ]
  },
  {
   "cell_type": "code",
   "execution_count": null,
   "metadata": {
    "collapsed": true
   },
   "outputs": [],
   "source": []
  }
 ],
 "metadata": {
  "anaconda-cloud": {},
  "kernelspec": {
   "display_name": "Python [conda root]",
   "language": "python",
   "name": "conda-root-py"
  },
  "language_info": {
   "codemirror_mode": {
    "name": "ipython",
    "version": 2
   },
   "file_extension": ".py",
   "mimetype": "text/x-python",
   "name": "python",
   "nbconvert_exporter": "python",
   "pygments_lexer": "ipython2",
   "version": "2.7.12"
  }
 },
 "nbformat": 4,
 "nbformat_minor": 1
}
