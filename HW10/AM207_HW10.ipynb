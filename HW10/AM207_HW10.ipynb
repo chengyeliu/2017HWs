{
 "cells": [
  {
   "cell_type": "markdown",
   "metadata": {},
   "source": [
    "# APMTH 207: Advanced Scientific Computing: \n",
    "## Stochastic Methods for Data Analysis, Inference and Optimization\n",
    "## Homework #10\n",
    "**Harvard University**<br>\n",
    "**Spring 2017**<br>\n",
    "**Instructors: Rahul Dave**<br>\n",
    "**Due Date: ** Friday, April 14th, 2017 at 11:59pm\n",
    "\n",
    "**Instructions:**\n",
    "\n",
    "- Upload your final answers as well as your iPython notebook containing all work to Canvas.\n",
    "\n",
    "- Structure your notebook and your work to maximize readability."
   ]
  },
  {
   "cell_type": "markdown",
   "metadata": {},
   "source": [
    "During the course of the semester you have worked with a considerable number of sophisticated models. In previous homeworks, you have focused on developing algorithms for performing inference on or prediction using these models. In this assignment, much like in Long Homework #3, you will explore how to recast data, tasks and research questions from a variety of different contexts so that an existing model can be applied for analysis.\n",
    "\n",
    "Example 10.1.3 in \"Statistical Rethinking\", the excerpt of which is included in the data directory for this assignment, illustrates a study of the effect of an applicant's gender on graduate school admissions to six U.C. Berkeley departments through a comparison of four models. \n",
    "\n",
    "## Problem #1: A Study of Census Data\n",
    "\n",
    "In this problem, you are given the data for the 1994 U.S. Census. The data has been processed so that only a subset of the features are present (for full dataset as well as the description see the [UCI Machine Learning Repository](http://archive.ics.uci.edu/ml/datasets/Census+Income)). \n",
    "\n",
    "You will be investigate the effect of gender on a person's yearly income in the dataset. In particular, we want to know how a person's gender effect the likelihood of their yearly salary being above or below \\$50k.  \n",
    "\n",
    "Following Example 10.1.3, build two models for the classification of an individual's yearly income (1 being above \\$50k and 0 being below), one of these models should include the effect of gender while the other should not. \n",
    "\n",
    "Replicate the analysis in 10.1.3 using your models; specifically, make a plot like Figure 10.5 (posterior check) to see how well your models fits the data. Using your analysis, discuss the effect of gender on income.\n",
    "\n",
    "Following Example 10.1.3, build two models for the classification of an individual's yearly income taking into account education. The categories we wish to consider are: \n",
    "- 4 year college degree\n",
    "- Some-college or two year academic college degree\n",
    "- High school\n",
    "- Professional, vocational school\n",
    "- Masters \n",
    "- Doctorate\n",
    "- Some or no high school\n",
    "Note that you might have to combine some of the existing education categories in your dataframe. \n",
    "\n",
    "Replicate the analysis in 10.1.3 using your models; specifically, make a plot like Figure 10.6 (posterior check) to see how well your model fits the data. Using your analysis, discuss the effect of gender on income, taking into account an individual's education.\n",
    "\n"
   ]
  },
  {
   "cell_type": "code",
   "execution_count": null,
   "metadata": {
    "collapsed": true
   },
   "outputs": [],
   "source": []
  }
 ],
 "metadata": {
  "anaconda-cloud": {},
  "kernelspec": {
   "display_name": "Python [conda root]",
   "language": "python",
   "name": "conda-root-py"
  },
  "language_info": {
   "codemirror_mode": {
    "name": "ipython",
    "version": 2
   },
   "file_extension": ".py",
   "mimetype": "text/x-python",
   "name": "python",
   "nbconvert_exporter": "python",
   "pygments_lexer": "ipython2",
   "version": "2.7.12"
  }
 },
 "nbformat": 4,
 "nbformat_minor": 1
}
